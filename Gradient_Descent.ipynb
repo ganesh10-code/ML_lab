{
  "metadata": {
    "kernelspec": {
      "language": "python",
      "display_name": "Python 3",
      "name": "python3"
    },
    "language_info": {
      "name": "python",
      "version": "3.11.13",
      "mimetype": "text/x-python",
      "codemirror_mode": {
        "name": "ipython",
        "version": 3
      },
      "pygments_lexer": "ipython3",
      "nbconvert_exporter": "python",
      "file_extension": ".py"
    },
    "kaggle": {
      "accelerator": "none",
      "dataSources": [
        {
          "sourceId": 12725879,
          "sourceType": "datasetVersion",
          "datasetId": 8043561
        }
      ],
      "dockerImageVersionId": 31089,
      "isInternetEnabled": true,
      "language": "python",
      "sourceType": "notebook",
      "isGpuEnabled": false
    },
    "colab": {
      "name": "Gradient_Descent",
      "provenance": [],
      "include_colab_link": true
    }
  },
  "nbformat_minor": 0,
  "nbformat": 4,
  "cells": [
    {
      "cell_type": "markdown",
      "metadata": {
        "id": "view-in-github",
        "colab_type": "text"
      },
      "source": [
        "<a href=\"https://colab.research.google.com/github/ganesh10-code/ML_lab/blob/main/Gradient_Descent.ipynb\" target=\"_parent\"><img src=\"https://colab.research.google.com/assets/colab-badge.svg\" alt=\"Open In Colab\"/></a>"
      ]
    },
    {
      "cell_type": "code",
      "source": [
        "#Gradient Descent\n",
        "\n",
        "from sklearn.linear_model import SGDRegressor\n",
        "from sklearn.metrics import mean_squared_error, r2_score\n",
        "from sklearn.preprocessing import StandardScaler\n",
        "from sklearn.model_selection import train_test_split\n",
        "from sklearn.utils import shuffle\n",
        "import pandas as pd\n",
        "\n",
        "data=pd.read_csv('/kaggle/input/ganesh-datasets/house_price_train.csv')\n",
        "target=\"SalePrice\"\n",
        "X=data[data.select_dtypes(include=['number']).columns].drop(columns=[target]).fillna(0)\n",
        "Y=data[target]\n",
        "\n",
        "X_train,X_test,Y_train,Y_test=train_test_split(X,Y, test_size=0.3,random_state=42)\n",
        "\n",
        "scaler=StandardScaler()\n",
        "X_train=scaler.fit_transform(X_train)\n",
        "X_test=scaler.transform(X_test)\n",
        "\n",
        "sgd=SGDRegressor(\n",
        "    max_iter=1,\n",
        "    random_state=42,\n",
        "    loss='squared_error',\n",
        "    penalty='l2',   #L2 Regularization\n",
        "    alpha=0.01,    #regularization strength\n",
        "    learning_rate='invscaling',\n",
        "    eta0=0.001,  #learning rate\n",
        "    power_t=0.05,\n",
        "    )\n",
        "\n",
        "error=[]\n",
        "for epoch in range(100):\n",
        "    X_train,Y_train= shuffle(X_train,Y_train, random_state=epoch)\n",
        "    sgd.partial_fit(X_train,Y_train)\n",
        "    y_pred=sgd.predict(X_test)\n",
        "    mse=mean_squared_error(Y_test,y_pred)\n",
        "    error.append(mse)\n",
        "    if(epoch==0):\n",
        "        mse_init = mse\n",
        "        rmse=mse_init**0.5\n",
        "        r2=r2_score(Y_test,y_pred)\n",
        "\n",
        "\n",
        "y_pred_sgd=sgd.predict(X_test)\n",
        "mse_sgd=mean_squared_error(Y_test,y_pred_sgd)\n",
        "rmse_sgd=mse_sgd**0.5\n",
        "r2_sgd=r2_score(Y_test,y_pred_sgd)\n",
        "\n",
        "\n",
        "print(\"Initial Evaluation matrix:\")\n",
        "print(\"MSE: \",mse_init)\n",
        "print(\"RMSE: \",rmse)\n",
        "print(\"R2 Score: \",r2)\n",
        "print(\"-----------------------\")\n",
        "print(\"Tracking the minimization of error\")\n",
        "print(error)\n",
        "print(\"-----------------------\")\n",
        "print(\"After performing SGD:\")\n",
        "print(\"MSE: \",mse_sgd)\n",
        "print(\"RMSE: \",rmse_sgd)\n",
        "print(\"R2 Score: \",r2_sgd)\n",
        "\n"
      ],
      "metadata": {
        "trusted": true,
        "execution": {
          "iopub.status.busy": "2025-08-31T18:20:15.488289Z",
          "iopub.execute_input": "2025-08-31T18:20:15.489164Z",
          "iopub.status.idle": "2025-08-31T18:20:15.708903Z",
          "shell.execute_reply.started": "2025-08-31T18:20:15.489135Z",
          "shell.execute_reply": "2025-08-31T18:20:15.708148Z"
        },
        "id": "wgwQI1rSXthi",
        "outputId": "a9d358b7-6aff-4936-d378-c4e2c94a8cf7"
      },
      "outputs": [
        {
          "name": "stdout",
          "text": "Initial Evaluation matrix:\nMSE:  9001045571.084505\nRMSE:  94873.8402884826\nR2 Score:  -0.2899003480676783\n-----------------------\nTracking the minimization of error\n[9001045571.084505, 3277383517.875125, 1818188197.7285283, 1350013827.0008788, 1399694523.9919527, 1378502945.7477684, 1194359854.6432796, 1258262762.4547217, 1330644457.662805, 1158008786.76832, 1303786831.619289, 1211317620.6232183, 1177534746.9538662, 1157355618.4368484, 1150367701.9859657, 1155770361.3095508, 1192103881.6426086, 1162293662.8776124, 1183724238.0677588, 1229823340.2923307, 1465829307.355291, 1258917127.8097303, 1299945275.7077699, 1240241914.8358977, 1195860763.4695678, 1167366177.5371196, 1488383131.2787862, 1280247995.3336267, 1223299570.1080828, 1302892539.321111, 1194942835.370022, 1233543094.959001, 1216668382.1743858, 1159211287.009181, 1330768646.4351227, 1147945940.4317038, 1270465704.535579, 1371944274.2005174, 1148071985.1025271, 1144334505.1515894, 1270153112.5084603, 1332599138.8899612, 1413739799.4941301, 1161969209.685065, 1298021971.0245333, 1151187779.3761916, 1346130625.2855186, 1157387905.9024868, 1470425911.5609608, 1307568169.5026069, 1214971658.0589337, 1259563826.9897912, 1237858559.345397, 1162311342.2483692, 1151131698.5507083, 1164934001.7004352, 1480623104.5283015, 1216786806.7344108, 1226653111.8288662, 1179562737.419049, 1210335158.6629758, 1238313872.87127, 1282928621.5724635, 1329417988.3517225, 1220899517.9721937, 1161871027.8512454, 1429034180.5924418, 1357003132.6537075, 1232943790.9943829, 1538056163.7072017, 1197282603.604427, 1156691752.669431, 1170174098.1343725, 1195697795.5476606, 1317999647.5455897, 1207217443.7992668, 1280304622.796529, 1204069336.2020981, 1154759095.0146475, 1179666703.1887052, 1197925334.8267844, 1189041691.049013, 1171301752.3515186, 1169981958.3503423, 1269870824.61938, 1179371332.5987732, 1236873754.96621, 1217233584.6833844, 1207662713.3954258, 1266269345.2052476, 1240174187.2189057, 1199451181.2191358, 1167028632.2321398, 1191841605.3456573, 1172118367.5511587, 1188354745.840175, 1324242712.7458937, 1344082567.044131, 1318086258.2697632, 1204811724.2489192]\n-----------------------\nAfter performing SGD:\nMSE:  1204811724.2489192\nRMSE:  34710.397926974554\nR2 Score:  0.8273437179945914\n",
          "output_type": "stream"
        }
      ],
      "execution_count": null
    }
  ]
}
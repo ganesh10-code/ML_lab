{
  "metadata": {
    "kernelspec": {
      "language": "python",
      "display_name": "Python 3",
      "name": "python3"
    },
    "language_info": {
      "name": "python",
      "version": "3.11.13",
      "mimetype": "text/x-python",
      "codemirror_mode": {
        "name": "ipython",
        "version": 3
      },
      "pygments_lexer": "ipython3",
      "nbconvert_exporter": "python",
      "file_extension": ".py"
    },
    "kaggle": {
      "accelerator": "none",
      "dataSources": [
        {
          "sourceId": 12637125,
          "sourceType": "datasetVersion",
          "datasetId": 7985384
        }
      ],
      "dockerImageVersionId": 31089,
      "isInternetEnabled": false,
      "language": "python",
      "sourceType": "notebook",
      "isGpuEnabled": false
    },
    "colab": {
      "name": "Constant_Feature",
      "provenance": [],
      "include_colab_link": true
    }
  },
  "nbformat_minor": 0,
  "nbformat": 4,
  "cells": [
    {
      "cell_type": "markdown",
      "metadata": {
        "id": "view-in-github",
        "colab_type": "text"
      },
      "source": [
        "<a href=\"https://colab.research.google.com/github/ganesh10-code/ML_lab/blob/main/Constant_Feature.ipynb\" target=\"_parent\"><img src=\"https://colab.research.google.com/assets/colab-badge.svg\" alt=\"Open In Colab\"/></a>"
      ]
    },
    {
      "cell_type": "markdown",
      "source": [],
      "metadata": {
        "id": "n8nGBawtopF-"
      }
    },
    {
      "cell_type": "code",
      "source": [
        "import pandas as pd\n",
        "import sklearn\n",
        "\n",
        "data=pd.read_csv(\"/airlines_flights_data.csv\")\n",
        "\n",
        "numeric_cols = data.select_dtypes(include=['number']).columns\n",
        "const_features = [feature for feature in numeric_cols if data[feature].std()==0]\n",
        "print(len(const_features))"
      ],
      "metadata": {
        "trusted": true,
        "execution": {
          "iopub.status.busy": "2025-08-01T05:27:05.37282Z",
          "iopub.execute_input": "2025-08-01T05:27:05.373191Z",
          "iopub.status.idle": "2025-08-01T05:27:05.878864Z",
          "shell.execute_reply.started": "2025-08-01T05:27:05.373169Z",
          "shell.execute_reply": "2025-08-01T05:27:05.87788Z"
        },
        "colab": {
          "base_uri": "https://localhost:8080/"
        },
        "id": "P9FyILdaopF_",
        "outputId": "3c9a7576-c74d-4664-a17a-6b1a407daf2a"
      },
      "outputs": [
        {
          "output_type": "stream",
          "name": "stdout",
          "text": [
            "0\n"
          ]
        }
      ],
      "execution_count": 3
    },
    {
      "cell_type": "markdown",
      "source": [
        "std() -> Standard Deviation in pandas will only work for numeric data."
      ],
      "metadata": {
        "id": "nvVRRwPIopGA"
      }
    },
    {
      "cell_type": "markdown",
      "source": [],
      "metadata": {
        "id": "coUT7oo_opGA"
      }
    }
  ]
}
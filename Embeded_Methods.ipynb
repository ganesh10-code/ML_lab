{
  "metadata": {
    "kernelspec": {
      "language": "python",
      "display_name": "Python 3",
      "name": "python3"
    },
    "language_info": {
      "name": "python",
      "version": "3.11.13",
      "mimetype": "text/x-python",
      "codemirror_mode": {
        "name": "ipython",
        "version": 3
      },
      "pygments_lexer": "ipython3",
      "nbconvert_exporter": "python",
      "file_extension": ".py"
    },
    "kaggle": {
      "accelerator": "none",
      "dataSources": [
        {
          "sourceId": 12725879,
          "sourceType": "datasetVersion",
          "datasetId": 8043561
        },
        {
          "sourceId": 12898053,
          "sourceType": "datasetVersion",
          "datasetId": 8160856
        }
      ],
      "dockerImageVersionId": 31089,
      "isInternetEnabled": true,
      "language": "python",
      "sourceType": "notebook",
      "isGpuEnabled": false
    },
    "colab": {
      "name": "Embeded Methods",
      "provenance": [],
      "include_colab_link": true
    }
  },
  "nbformat_minor": 0,
  "nbformat": 4,
  "cells": [
    {
      "cell_type": "markdown",
      "metadata": {
        "id": "view-in-github",
        "colab_type": "text"
      },
      "source": [
        "<a href=\"https://colab.research.google.com/github/ganesh10-code/ML_lab/blob/main/Embeded_Methods.ipynb\" target=\"_parent\"><img src=\"https://colab.research.google.com/assets/colab-badge.svg\" alt=\"Open In Colab\"/></a>"
      ]
    },
    {
      "cell_type": "code",
      "source": [
        "#L1 Regularization- LASSO\n",
        "from sklearn.linear_model import Lasso\n",
        "from sklearn.preprocessing import StandardScaler\n",
        "import pandas as pd\n",
        "\n",
        "data=pd.read_csv('/kaggle/input/ganesh-datasets/Santander Customer Satisfaction_train.csv')\n",
        "TARGET=\"TARGET\"\n",
        "X=data.drop(columns=[TARGET])\n",
        "\n",
        "Y=data[TARGET]\n",
        "\n",
        "features=X.columns\n",
        "\n",
        "scaler=StandardScaler()\n",
        "X_scaled=scaler.fit_transform(X)\n",
        "\n",
        "lasso=Lasso(alpha=0.001)\n",
        "lasso.fit(X_scaled,Y)\n",
        "\n",
        "lasso_features=pd.DataFrame({\"Features\": features, \"Coefficient\":lasso.coef_ })\n",
        "print(lasso_features)\n",
        "\n",
        "selected_features=lasso_features[lasso_features[\"Coefficient\"] != 0]\n",
        "\n",
        "selected_features = selected_features.reindex(selected_features.Coefficient.abs().sort_values(ascending=False).index)\n",
        "print(\"Top important features:\")\n",
        "print(selected_features)\n",
        "\n"
      ],
      "metadata": {
        "trusted": true,
        "execution": {
          "iopub.status.busy": "2025-08-28T17:34:20.854721Z",
          "iopub.execute_input": "2025-08-28T17:34:20.855127Z",
          "iopub.status.idle": "2025-08-28T17:34:25.064656Z",
          "shell.execute_reply.started": "2025-08-28T17:34:20.8551Z",
          "shell.execute_reply": "2025-08-28T17:34:25.0633Z"
        },
        "id": "Y3kglGNUx2wI",
        "outputId": "21cfb9ba-6f28-4d44-d4ed-bac97f94778a"
      },
      "outputs": [
        {
          "name": "stdout",
          "text": "                    Features  Coefficient\n0                         ID     0.000000\n1                       var3     0.001493\n2                      var15     0.024372\n3         imp_ent_var16_ult1     0.000000\n4    imp_op_var39_comer_ult1     0.000000\n..                       ...          ...\n365  saldo_medio_var44_hace2    -0.000000\n366  saldo_medio_var44_hace3    -0.000000\n367   saldo_medio_var44_ult1    -0.000000\n368   saldo_medio_var44_ult3    -0.000000\n369                    var38    -0.003541\n\n[370 rows x 2 columns]\nTop important features:\n                    Features   Coefficient\n2                      var15  2.437173e-02\n64                 ind_var30 -2.144724e-02\n39                 ind_var13 -8.167182e-03\n63               ind_var30_0  6.167746e-03\n28                ind_var8_0  5.780598e-03\n281      num_meses_var5_ult3 -5.658927e-03\n50                 ind_var24 -4.908731e-03\n277           num_var22_ult1  4.249209e-03\n369                    var38 -3.540756e-03\n183              saldo_var30 -3.172565e-03\n30               ind_var12_0 -2.328588e-03\n194                    var36  2.325835e-03\n106              num_var14_0  1.895099e-03\n65               ind_var31_0 -1.766614e-03\n165               saldo_var5 -1.724840e-03\n303  num_op_var39_efect_ult3  1.648337e-03\n16   imp_op_var39_efect_ult1  1.645091e-03\n9    imp_op_var40_efect_ult3  1.635981e-03\n260     ind_var43_recib_ult1 -1.583004e-03\n307     num_reemb_var17_ult1  1.493940e-03\n1                       var3  1.492759e-03\n279       num_med_var22_ult3  1.468987e-03\n178              saldo_var26 -1.454989e-03\n77               ind_var39_0 -1.280727e-03\n312     num_var43_recib_ult1 -1.241187e-03\n274       num_ent_var16_ult1  1.200820e-03\n15         imp_op_var41_ult1  1.126787e-03\n35         ind_var13_largo_0 -1.116520e-03\n68               ind_var32_0 -9.561160e-04\n326           num_var45_ult1  9.408759e-04\n167               saldo_var8 -9.352304e-04\n259      ind_var43_emit_ult1 -8.242123e-04\n275          num_var22_hace2  6.454328e-04\n335    saldo_medio_var8_ult1 -6.190377e-04\n149       num_var37_med_ult2 -4.806756e-04\n331    saldo_medio_var5_ult1 -4.381286e-04\n310       num_sal_var16_ult1  4.342508e-04\n264    num_aport_var13_hace3 -4.222871e-04\n333   saldo_medio_var8_hace2 -3.922217e-04\n329   saldo_medio_var5_hace2 -3.491677e-04\n8    imp_op_var40_efect_ult1  2.841791e-04\n159                num_var42 -2.358034e-04\n302  num_op_var39_efect_ult1  1.487038e-04\n296  num_op_var40_efect_ult1  1.172448e-04\n69                 ind_var32 -1.906745e-17\n",
          "output_type": "stream"
        }
      ],
      "execution_count": null
    },
    {
      "cell_type": "code",
      "source": [
        "#L2 Regularization (RIDGE)\n",
        "from sklearn.linear_model import Ridge\n",
        "from sklearn.preprocessing import StandardScaler\n",
        "import pandas as pd\n",
        "\n",
        "data= pd.read_csv('/kaggle/input/ganesh-datasets/house_price_train.csv')\n",
        "target='SalePrice'\n",
        "X=data[data.select_dtypes(include=['number']).columns].drop(columns=[target]).fillna(0)\n",
        "Y=data[target]\n",
        "\n",
        "scaler=StandardScaler()\n",
        "X_scaled=scaler.fit_transform(X)\n",
        "\n",
        "ridge=Ridge(alpha=1.0)\n",
        "ridge.fit(X_scaled,Y)\n",
        "\n",
        "ridge_features=pd.DataFrame({\"Features\": X.columns, \"Coefficient\":ridge.coef_ })\n",
        "print(ridge_features)\n",
        "\n",
        "selected_features=ridge_features[ridge_features[\"Coefficient\"] != 0]\n",
        "\n",
        "selected_features = selected_features.reindex(selected_features.Coefficient.abs().sort_values(ascending=False).index)\n",
        "print(\"Top important features:\")\n",
        "print(selected_features)\n"
      ],
      "metadata": {
        "trusted": true,
        "execution": {
          "iopub.status.busy": "2025-08-28T17:39:44.535713Z",
          "iopub.execute_input": "2025-08-28T17:39:44.536069Z",
          "iopub.status.idle": "2025-08-28T17:39:44.578152Z",
          "shell.execute_reply.started": "2025-08-28T17:39:44.536045Z",
          "shell.execute_reply": "2025-08-28T17:39:44.57647Z"
        },
        "id": "7rWsT4m4x2wK",
        "outputId": "9b10e396-47f2-4bfe-a178-bea64f66c3e0"
      },
      "outputs": [
        {
          "name": "stdout",
          "text": "         Features   Coefficient\n0              Id   -443.142881\n1      MSSubClass  -7058.955363\n2     LotFrontage    309.935940\n3         LotArea   3906.246366\n4     OverallQual  23903.787795\n5     OverallCond   5674.233101\n6       YearBuilt  10179.754867\n7    YearRemodAdd   2541.215499\n8      MasVnrArea   5076.718310\n9      BsmtFinSF1   4259.907742\n10     BsmtFinSF2    -21.588437\n11      BsmtUnfSF   -337.266890\n12    TotalBsmtSF   4081.158727\n13       1stFlrSF   7969.701267\n14       2ndFlrSF   9531.257042\n15   LowQualFinSF   -408.375946\n16      GrLivArea  13743.228568\n17   BsmtFullBath   4431.800092\n18   BsmtHalfBath    405.863489\n19       FullBath   1803.831708\n20       HalfBath   -941.794105\n21   BedroomAbvGr  -8357.416004\n22   KitchenAbvGr  -3475.216466\n23   TotRmsAbvGrd   8128.734175\n24     Fireplaces   2637.650919\n25    GarageYrBlt  -6589.504977\n26     GarageCars  11677.695859\n27     GarageArea   1107.214872\n28     WoodDeckSF   3233.221286\n29    OpenPorchSF   -412.596040\n30  EnclosedPorch    707.267289\n31      3SsnPorch    592.906788\n32    ScreenPorch   3213.681931\n33       PoolArea  -1289.391260\n34        MiscVal   -238.058660\n35         MoSold   -111.450257\n36         YrSold   -946.107194\nTop important features:\n         Features   Coefficient\n4     OverallQual  23903.787795\n16      GrLivArea  13743.228568\n26     GarageCars  11677.695859\n6       YearBuilt  10179.754867\n14       2ndFlrSF   9531.257042\n21   BedroomAbvGr  -8357.416004\n23   TotRmsAbvGrd   8128.734175\n13       1stFlrSF   7969.701267\n1      MSSubClass  -7058.955363\n25    GarageYrBlt  -6589.504977\n5     OverallCond   5674.233101\n8      MasVnrArea   5076.718310\n17   BsmtFullBath   4431.800092\n9      BsmtFinSF1   4259.907742\n12    TotalBsmtSF   4081.158727\n3         LotArea   3906.246366\n22   KitchenAbvGr  -3475.216466\n28     WoodDeckSF   3233.221286\n32    ScreenPorch   3213.681931\n24     Fireplaces   2637.650919\n7    YearRemodAdd   2541.215499\n19       FullBath   1803.831708\n33       PoolArea  -1289.391260\n27     GarageArea   1107.214872\n36         YrSold   -946.107194\n20       HalfBath   -941.794105\n30  EnclosedPorch    707.267289\n31      3SsnPorch    592.906788\n0              Id   -443.142881\n29    OpenPorchSF   -412.596040\n15   LowQualFinSF   -408.375946\n18   BsmtHalfBath    405.863489\n11      BsmtUnfSF   -337.266890\n2     LotFrontage    309.935940\n34        MiscVal   -238.058660\n35         MoSold   -111.450257\n10     BsmtFinSF2    -21.588437\n",
          "output_type": "stream"
        }
      ],
      "execution_count": null
    },
    {
      "cell_type": "code",
      "source": [
        "#Elastic Net(L1+L2)\n",
        "from sklearn.linear_model import ElasticNet\n",
        "from sklearn.preprocessing import StandardScaler\n",
        "import pandas as pd\n",
        "\n",
        "data= pd.read_csv('/kaggle/input/ganesh-datasets/house_price_train.csv')\n",
        "target='SalePrice'\n",
        "X=data[data.select_dtypes(include=['number']).columns].drop(columns=[target]).fillna(0)\n",
        "Y=data[target]\n",
        "\n",
        "scaler=StandardScaler()\n",
        "X_scaled=scaler.fit_transform(X)\n",
        "\n",
        "elastic=ElasticNet(alpha=0.1,l1_ratio=0.5)\n",
        "elastic.fit(X_scaled,Y)\n",
        "\n",
        "elastic_features=pd.DataFrame({\"Features\": X.columns, \"Coefficient\":elastic.coef_ })\n",
        "print(elastic_features)\n",
        "\n",
        "selected_features=elastic_features[elastic_features[\"Coefficient\"] != 0]\n",
        "\n",
        "selected_features = selected_features.reindex(selected_features.Coefficient.abs().sort_values(ascending=False).index)\n",
        "print(\"Top important features:\")\n",
        "print(selected_features)\n"
      ],
      "metadata": {
        "trusted": true,
        "execution": {
          "iopub.status.busy": "2025-08-28T17:42:48.687722Z",
          "iopub.execute_input": "2025-08-28T17:42:48.688102Z",
          "iopub.status.idle": "2025-08-28T17:42:48.736315Z",
          "shell.execute_reply.started": "2025-08-28T17:42:48.688077Z",
          "shell.execute_reply": "2025-08-28T17:42:48.735106Z"
        },
        "id": "sz8ZtRNex2wL",
        "outputId": "62b2f19c-d1c6-47c6-cded-e14c166a4e5c"
      },
      "outputs": [
        {
          "name": "stdout",
          "text": "         Features   Coefficient\n0              Id   -471.529093\n1      MSSubClass  -6209.057853\n2     LotFrontage    569.238082\n3         LotArea   3751.348956\n4     OverallQual  22124.925826\n5     OverallCond   4949.495919\n6       YearBuilt   8724.949799\n7    YearRemodAdd   3726.314011\n8      MasVnrArea   5318.129087\n9      BsmtFinSF1   4542.173250\n10     BsmtFinSF2      2.604533\n11      BsmtUnfSF    -23.287036\n12    TotalBsmtSF   4699.022402\n13       1stFlrSF   7507.227681\n14       2ndFlrSF   8403.926382\n15   LowQualFinSF   -355.118983\n16      GrLivArea  12471.832291\n17   BsmtFullBath   4238.844234\n18   BsmtHalfBath    282.306321\n19       FullBath   2990.287967\n20       HalfBath    105.981440\n21   BedroomAbvGr  -7140.218861\n22   KitchenAbvGr  -3707.091386\n23   TotRmsAbvGrd   7825.569357\n24     Fireplaces   3289.646449\n25    GarageYrBlt  -5578.057190\n26     GarageCars   9713.179203\n27     GarageArea   2897.065540\n28     WoodDeckSF   3315.352068\n29    OpenPorchSF   -133.624675\n30  EnclosedPorch    573.030363\n31      3SsnPorch    595.726705\n32    ScreenPorch   3029.716007\n33       PoolArea  -1163.199818\n34        MiscVal   -209.293075\n35         MoSold     -9.228298\n36         YrSold   -907.080524\nTop important features:\n         Features   Coefficient\n4     OverallQual  22124.925826\n16      GrLivArea  12471.832291\n26     GarageCars   9713.179203\n6       YearBuilt   8724.949799\n14       2ndFlrSF   8403.926382\n23   TotRmsAbvGrd   7825.569357\n13       1stFlrSF   7507.227681\n21   BedroomAbvGr  -7140.218861\n1      MSSubClass  -6209.057853\n25    GarageYrBlt  -5578.057190\n8      MasVnrArea   5318.129087\n5     OverallCond   4949.495919\n12    TotalBsmtSF   4699.022402\n9      BsmtFinSF1   4542.173250\n17   BsmtFullBath   4238.844234\n3         LotArea   3751.348956\n7    YearRemodAdd   3726.314011\n22   KitchenAbvGr  -3707.091386\n28     WoodDeckSF   3315.352068\n24     Fireplaces   3289.646449\n32    ScreenPorch   3029.716007\n19       FullBath   2990.287967\n27     GarageArea   2897.065540\n33       PoolArea  -1163.199818\n36         YrSold   -907.080524\n31      3SsnPorch    595.726705\n30  EnclosedPorch    573.030363\n2     LotFrontage    569.238082\n0              Id   -471.529093\n15   LowQualFinSF   -355.118983\n18   BsmtHalfBath    282.306321\n34        MiscVal   -209.293075\n29    OpenPorchSF   -133.624675\n20       HalfBath    105.981440\n11      BsmtUnfSF    -23.287036\n35         MoSold     -9.228298\n10     BsmtFinSF2      2.604533\n",
          "output_type": "stream"
        }
      ],
      "execution_count": null
    }
  ]
}
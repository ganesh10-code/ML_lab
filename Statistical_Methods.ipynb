{
  "metadata": {
    "kernelspec": {
      "language": "python",
      "display_name": "Python 3",
      "name": "python3"
    },
    "language_info": {
      "name": "python",
      "version": "3.11.13",
      "mimetype": "text/x-python",
      "codemirror_mode": {
        "name": "ipython",
        "version": 3
      },
      "pygments_lexer": "ipython3",
      "nbconvert_exporter": "python",
      "file_extension": ".py"
    },
    "kaggle": {
      "accelerator": "none",
      "dataSources": [
        {
          "sourceId": 12706266,
          "sourceType": "datasetVersion",
          "datasetId": 8030422
        }
      ],
      "dockerImageVersionId": 31089,
      "isInternetEnabled": true,
      "language": "python",
      "sourceType": "notebook",
      "isGpuEnabled": false
    },
    "colab": {
      "name": "Statistical_Methods",
      "provenance": [],
      "include_colab_link": true
    }
  },
  "nbformat_minor": 0,
  "nbformat": 4,
  "cells": [
    {
      "cell_type": "markdown",
      "metadata": {
        "id": "view-in-github",
        "colab_type": "text"
      },
      "source": [
        "<a href=\"https://colab.research.google.com/github/ganesh10-code/ML_lab/blob/main/Statistical_Methods.ipynb\" target=\"_parent\"><img src=\"https://colab.research.google.com/assets/colab-badge.svg\" alt=\"Open In Colab\"/></a>"
      ]
    },
    {
      "cell_type": "code",
      "source": [],
      "metadata": {
        "id": "Up7L17SDIeAY"
      },
      "execution_count": null,
      "outputs": []
    },
    {
      "cell_type": "code",
      "source": [
        "#Chi 2 Method\n",
        "import pandas as pd\n",
        "import numpy as np\n",
        "from sklearn.feature_selection import chi2\n",
        "#loading the titanic dataset\n",
        "df=pd.read_csv('/content/titanic_train (1).csv')\n",
        "important_feature=[]\n",
        "#encode the non-numeric features into numeric values\n",
        "df['Sex']=np.where(df.Sex=='male',0,1)\n",
        "ordinal_label = {k:i for i,k in enumerate(df['Embarked'].unique(),0)}\n",
        "df['Embarked']=df['Embarked'].map(ordinal_label)\n",
        "#dividing train data into x_train and y_train\n",
        "X_train = df.drop(['Survived', 'Name','Cabin','Ticket'], axis=1)\n",
        "Y_train=df['Survived']\n",
        "#calculating f_score\n",
        "f_score,p_value=chi2(X_train.fillna(0),Y_train)\n",
        "p_value=p_value.round(2)\n",
        "chi2_df=pd.DataFrame({'Features':X_train.columns,\"F Score\":f_score,\"P Value\":p_value}).sort_values(by='F Score',ascending=False)\n",
        "print(chi2_df)\n",
        "important_features=chi2_df[chi2_df['P Value']<0.005]['Features'].tolist()\n",
        "print(important_features)\n"
      ],
      "metadata": {
        "trusted": true,
        "execution": {
          "iopub.status.busy": "2025-08-08T05:19:13.015615Z",
          "iopub.execute_input": "2025-08-08T05:19:13.01657Z",
          "iopub.status.idle": "2025-08-08T05:19:13.043411Z",
          "shell.execute_reply.started": "2025-08-08T05:19:13.016538Z",
          "shell.execute_reply": "2025-08-08T05:19:13.042091Z"
        },
        "id": "H0LZKaOxIPxa",
        "outputId": "cd2ac067-b486-4ca4-f857-1fe088a551bc",
        "colab": {
          "base_uri": "https://localhost:8080/"
        }
      },
      "outputs": [
        {
          "output_type": "stream",
          "name": "stdout",
          "text": [
            "      Features      F Score  P Value\n",
            "6         Fare  4518.319091     0.00\n",
            "2          Sex   170.348127     0.00\n",
            "1       Pclass    30.873699     0.00\n",
            "7     Embarked    14.124257     0.00\n",
            "5        Parch    10.097499     0.00\n",
            "0  PassengerId     3.312934     0.07\n",
            "4        SibSp     2.581865     0.11\n",
            "3          Age     1.286098     0.26\n",
            "['Fare', 'Sex', 'Pclass', 'Embarked', 'Parch']\n"
          ]
        }
      ],
      "execution_count": 6
    }
  ]
}
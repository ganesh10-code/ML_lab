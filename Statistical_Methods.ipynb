{
  "metadata": {
    "kernelspec": {
      "language": "python",
      "display_name": "Python 3",
      "name": "python3"
    },
    "language_info": {
      "name": "python",
      "version": "3.11.13",
      "mimetype": "text/x-python",
      "codemirror_mode": {
        "name": "ipython",
        "version": 3
      },
      "pygments_lexer": "ipython3",
      "nbconvert_exporter": "python",
      "file_extension": ".py"
    },
    "kaggle": {
      "accelerator": "none",
      "dataSources": [
        {
          "sourceId": 12706266,
          "sourceType": "datasetVersion",
          "datasetId": 8030422
        }
      ],
      "dockerImageVersionId": 31089,
      "isInternetEnabled": true,
      "language": "python",
      "sourceType": "notebook",
      "isGpuEnabled": false
    },
    "colab": {
      "name": "Statistical_Methods",
      "provenance": [],
      "include_colab_link": true
    }
  },
  "nbformat_minor": 0,
  "nbformat": 4,
  "cells": [
    {
      "cell_type": "markdown",
      "metadata": {
        "id": "view-in-github",
        "colab_type": "text"
      },
      "source": [
        "<a href=\"https://colab.research.google.com/github/ganesh10-code/ML_lab/blob/main/Statistical_Methods.ipynb\" target=\"_parent\"><img src=\"https://colab.research.google.com/assets/colab-badge.svg\" alt=\"Open In Colab\"/></a>"
      ]
    },
    {
      "cell_type": "code",
      "source": [
        "#Chi 2 Method\n",
        "import pandas as pd\n",
        "import numpy as np\n",
        "from sklearn.feature_selection import chi2\n",
        "\n",
        "#loading the titanic dataset\n",
        "df=pd.read_csv('/kaggle/input/datasets-ganesh/titanic_train (1).csv')\n",
        "important_feature=[]\n",
        "\n",
        "#dividing train data into x_train and y_train\n",
        "X_train = df.drop(['Survived','Name','Cabin','Ticket'], axis=1)\n",
        "Y_train=df['Survived']\n",
        "\n",
        "#encode the non-numeric features into numeric values\n",
        "X_train['Sex']=np.where(X_train.Sex=='male',0,1)\n",
        "ordinal_label = {k:i for i,k in enumerate(X_train['Embarked'].unique(),0)}\n",
        "X_train['Embarked']=X_train['Embarked'].map(ordinal_label)\n",
        "\n",
        "#calculating f_score\n",
        "f_score,p_value=chi2(X_train.fillna(0),Y_train)\n",
        "p_value=p_value.round(2)\n",
        "chi2_df=pd.DataFrame({'Features':X_train.columns,\"F Score\":f_score,\"P Value\":p_value}).sort_values(by='F Score',ascending=False)\n",
        "print(chi2_df)\n",
        "important_features=chi2_df[chi2_df['P Value']<0.05]['Features'].tolist()\n",
        "print(important_features)\n"
      ],
      "metadata": {
        "trusted": true,
        "execution": {
          "iopub.status.busy": "2025-08-10T13:12:10.103684Z",
          "iopub.execute_input": "2025-08-10T13:12:10.104679Z",
          "iopub.status.idle": "2025-08-10T13:12:10.163423Z",
          "shell.execute_reply.started": "2025-08-10T13:12:10.104638Z",
          "shell.execute_reply": "2025-08-10T13:12:10.162613Z"
        },
        "id": "5Aj20hSb_zzb",
        "outputId": "a02e8422-3b4b-441b-f3e6-347637898164"
      },
      "outputs": [
        {
          "name": "stdout",
          "text": "      Features      F Score  P Value\n6         Fare  4518.319091     0.00\n2          Sex   170.348127     0.00\n1       Pclass    30.873699     0.00\n7     Embarked    14.124257     0.00\n5        Parch    10.097499     0.00\n0  PassengerId     3.312934     0.07\n4        SibSp     2.581865     0.11\n3          Age     1.286098     0.26\n['Fare', 'Sex', 'Pclass', 'Embarked', 'Parch']\n",
          "output_type": "stream"
        }
      ],
      "execution_count": null
    },
    {
      "cell_type": "code",
      "source": [
        "#ANOVA Method for Classification\n",
        "import pandas as pd\n",
        "from sklearn.feature_selection import f_classif\n",
        "#load data\n",
        "df=pd.read_csv('/kaggle/input/datasets-ganesh/titanic_train (1).csv')\n",
        "important_feature=[]\n",
        "\n",
        "#dividing train data into x_train and y_train\n",
        "X_train = df.drop(['Survived', 'Name','Cabin','Ticket'], axis=1)\n",
        "Y_train=df['Survived']\n",
        "\n",
        "#encode the non-numeric features into numeric values\n",
        "X_train['Sex']=np.where(X_train.Sex=='male',0,1)\n",
        "ordinal_label = {k:i for i,k in enumerate(X_train['Embarked'].unique(),0)}\n",
        "X_train['Embarked']=X_train['Embarked'].map(ordinal_label)\n",
        "\n",
        "#calculating f_score and p score\n",
        "f_score,p_value=f_classif(X_train.fillna(0),Y_train)\n",
        "p_value=p_value.round(2)\n",
        "Anova_df=pd.DataFrame({'Features':X_train.columns,\"F Score\":f_score,\"P Value\":p_value}).sort_values(by='F Score',ascending=False)\n",
        "print(Anova_df)\n",
        "important_features=Anova_df[Anova_df['P Value']<0.05]['Features'].tolist()\n",
        "print(important_features)"
      ],
      "metadata": {
        "trusted": true,
        "execution": {
          "iopub.status.busy": "2025-08-10T13:12:39.959531Z",
          "iopub.execute_input": "2025-08-10T13:12:39.960177Z",
          "iopub.status.idle": "2025-08-10T13:12:39.981161Z",
          "shell.execute_reply.started": "2025-08-10T13:12:39.960149Z",
          "shell.execute_reply": "2025-08-10T13:12:39.980359Z"
        },
        "id": "DxZv6kVf_zzf",
        "outputId": "7eae3430-9802-4d64-f835-c94db0f45ebf"
      },
      "outputs": [
        {
          "name": "stdout",
          "text": "      Features     F Score  P Value\n2          Sex  372.405724     0.00\n1       Pclass  115.031272     0.00\n6         Fare   63.030764     0.00\n7     Embarked   12.558867     0.00\n5        Parch    5.963464     0.01\n4        SibSp    1.110572     0.29\n3          Age    0.098757     0.75\n0  PassengerId    0.022285     0.88\n['Sex', 'Pclass', 'Fare', 'Embarked', 'Parch']\n",
          "output_type": "stream"
        }
      ],
      "execution_count": null
    },
    {
      "cell_type": "code",
      "source": [
        "#Anova for Regression\n",
        "import pandas as pd\n",
        "from sklearn.feature_selection import f_regression\n",
        "#load data\n",
        "df=pd.read_csv('/kaggle/input/datasets-ganesh/house_price_train (1).csv')\n",
        "important_feature=[]\n",
        "\n",
        "#dividing train data into x_train and y_train\n",
        "X_train = df[df.select_dtypes(include=['number']).columns].drop(['SalePrice'], axis=1)\n",
        "Y_train=df['SalePrice']\n",
        "\n",
        "#calculating f_score and p score\n",
        "f_score,p_value=f_regression(X_train.fillna(0),Y_train)\n",
        "p_value=p_value.round(2)\n",
        "Anova_df=pd.DataFrame({'Features':X_train.columns,\"F Score\":f_score,\"P Value\":p_value}).sort_values(by='F Score',ascending=False)\n",
        "print(Anova_df)\n",
        "important_features=Anova_df[Anova_df['P Value']<0.05]['Features'].tolist()\n",
        "print(important_features)"
      ],
      "metadata": {
        "trusted": true,
        "execution": {
          "iopub.status.busy": "2025-08-10T16:13:26.214672Z",
          "iopub.execute_input": "2025-08-10T16:13:26.215124Z",
          "iopub.status.idle": "2025-08-10T16:13:30.760121Z",
          "shell.execute_reply.started": "2025-08-10T16:13:26.215099Z",
          "shell.execute_reply": "2025-08-10T16:13:30.759178Z"
        },
        "id": "DWGYV8S8_zzi",
        "outputId": "f1bd9716-9ea2-4092-f4fa-8e23acbc1f0d"
      },
      "outputs": [
        {
          "name": "stdout",
          "text": "         Features      F Score  P Value\n4     OverallQual  2436.770591     0.00\n16      GrLivArea  1470.585010     0.00\n26     GarageCars  1013.705666     0.00\n27     GarageArea   926.951287     0.00\n12    TotalBsmtSF   880.341282     0.00\n13       1stFlrSF   845.524488     0.00\n19       FullBath   668.430296     0.00\n23   TotRmsAbvGrd   580.762801     0.00\n6       YearBuilt   548.665821     0.00\n7    YearRemodAdd   504.714855     0.00\n8      MasVnrArea   419.328468     0.00\n24     Fireplaces   406.503866     0.00\n9      BsmtFinSF1   255.923517     0.00\n28     WoodDeckSF   171.494673     0.00\n14       2ndFlrSF   165.561151     0.00\n29    OpenPorchSF   161.577391     0.00\n20       HalfBath   128.018964     0.00\n3         LotArea   109.090355     0.00\n25    GarageYrBlt   106.902249     0.00\n17   BsmtFullBath    79.300912     0.00\n11      BsmtUnfSF    70.303948     0.00\n2     LotFrontage    67.012397     0.00\n21   BedroomAbvGr    42.456412     0.00\n22   KitchenAbvGr    27.437234     0.00\n30  EnclosedPorch    24.509275     0.00\n32    ScreenPorch    18.336600     0.00\n33       PoolArea    12.556221     0.00\n1      MSSubClass    10.431466     0.00\n5     OverallCond     8.891623     0.00\n35         MoSold     3.150172     0.08\n31      3SsnPorch     2.903843     0.09\n36         YrSold     1.220661     0.27\n15   LowQualFinSF     0.956600     0.33\n0              Id     0.700676     0.40\n34        MiscVal     0.654934     0.42\n18   BsmtHalfBath     0.413789     0.52\n10     BsmtFinSF2     0.188780     0.66\n['OverallQual', 'GrLivArea', 'GarageCars', 'GarageArea', 'TotalBsmtSF', '1stFlrSF', 'FullBath', 'TotRmsAbvGrd', 'YearBuilt', 'YearRemodAdd', 'MasVnrArea', 'Fireplaces', 'BsmtFinSF1', 'WoodDeckSF', '2ndFlrSF', 'OpenPorchSF', 'HalfBath', 'LotArea', 'GarageYrBlt', 'BsmtFullBath', 'BsmtUnfSF', 'LotFrontage', 'BedroomAbvGr', 'KitchenAbvGr', 'EnclosedPorch', 'ScreenPorch', 'PoolArea', 'MSSubClass', 'OverallCond']\n",
          "output_type": "stream"
        }
      ],
      "execution_count": null
    },
    {
      "cell_type": "markdown",
      "source": [],
      "metadata": {
        "id": "zJqBdm1b_zzk"
      }
    },
    {
      "cell_type": "code",
      "source": [
        "#AUC-ROC using Classification\n",
        "import pandas as pd\n",
        "from sklearn.model_selection import train_test_split\n",
        "from sklearn.metrics import roc_auc_score\n",
        "from sklearn.linear_model import LogisticRegression\n",
        "\n",
        "df=pd.read_csv('/kaggle/input/datasets-ganesh/titanic_train (1).csv')\n",
        "target='Survived'\n",
        "x=df[df.select_dtypes(include=['number']).columns].drop(columns=[target])\n",
        "y=df[target]\n",
        "\n",
        "feature_auc={}\n",
        "\n",
        "for feature in x.columns:\n",
        "    X_feature=x[[feature]]\n",
        "    X_train,X_test,Y_train,Y_test = train_test_split(X_feature.fillna(0),y,test_size=0.3,random_state=42)\n",
        "\n",
        "    model=LogisticRegression(max_iter=1000)\n",
        "    model.fit(X_train,Y_train)\n",
        "\n",
        "    Y_prob=model.predict_proba(X_test)[:,1]\n",
        "    #calculate auc-roc score\n",
        "    auc=roc_auc_score(Y_test,Y_prob)\n",
        "    feature_auc[feature]=auc\n",
        "\n",
        "feature_auc_df=pd.DataFrame({'Feature': list(feature_auc.keys()),'AUC Score':list(feature_auc.values())}).sort_values(by='AUC Score', ascending=False)\n",
        "print(feature_auc_df)"
      ],
      "metadata": {
        "trusted": true,
        "execution": {
          "iopub.status.busy": "2025-08-10T17:11:43.100055Z",
          "iopub.execute_input": "2025-08-10T17:11:43.100468Z",
          "iopub.status.idle": "2025-08-10T17:11:43.187945Z",
          "shell.execute_reply.started": "2025-08-10T17:11:43.100418Z",
          "shell.execute_reply": "2025-08-10T17:11:43.187175Z"
        },
        "id": "JT9SZA2X_zzn",
        "outputId": "3848eaf7-3014-4db3-8f88-2764c6b65577"
      },
      "outputs": [
        {
          "name": "stdout",
          "text": "       Feature  AUC Score\n5         Fare   0.743215\n1       Pclass   0.707293\n4        Parch   0.557956\n2          Age   0.494836\n0  PassengerId   0.478969\n3        SibSp   0.429592\n",
          "output_type": "stream"
        }
      ],
      "execution_count": null
    },
    {
      "cell_type": "code",
      "source": [
        "#AUC-ROC using Regression\n",
        "import pandas as pd\n",
        "import numpy as np\n",
        "from sklearn.model_selection import train_test_split\n",
        "from sklearn.metrics import roc_auc_score\n",
        "from sklearn.linear_model import LinearRegression\n",
        "df=pd.read_csv('/kaggle/input/datasets-ganesh/house_price_train (1).csv')\n",
        "target='SalePrice'\n",
        "x=df[df.select_dtypes(include=['number']).columns].drop(columns=[target])\n",
        "y=df[target]\n",
        "#converting Continuos target into categorical\n",
        "y=(y > np.median(y)).astype(int)\n",
        "\n",
        "feature_auc={}\n",
        "\n",
        "for feature in x.columns:\n",
        "    X_feature=x[[feature]]\n",
        "    X_train,X_test,Y_train,Y_test = train_test_split(X_feature.fillna(0),y,test_size=0.3,random_state=42)\n",
        "\n",
        "    model=LinearRegression()\n",
        "    model.fit(X_train,Y_train)\n",
        "\n",
        "    Y_pred=model.predict(X_test)\n",
        "    #calculate auc-roc score\n",
        "    auc=roc_auc_score(Y_test,Y_pred)\n",
        "    feature_auc[feature]=auc\n",
        "\n",
        "feature_auc_df=pd.DataFrame({'Feature': list(feature_auc.keys()),'AUC Score':list(feature_auc.values())}).sort_values(by='AUC Score', ascending=False)\n",
        "print(feature_auc_df)"
      ],
      "metadata": {
        "trusted": true,
        "execution": {
          "iopub.status.busy": "2025-08-10T17:19:32.058097Z",
          "iopub.execute_input": "2025-08-10T17:19:32.059374Z",
          "iopub.status.idle": "2025-08-10T17:19:32.307778Z",
          "shell.execute_reply.started": "2025-08-10T17:19:32.059341Z",
          "shell.execute_reply": "2025-08-10T17:19:32.306744Z"
        },
        "id": "1g0ERwXY_zzq",
        "outputId": "a570e7cc-5e11-4993-b2f2-3d9dc4f2f98c"
      },
      "outputs": [
        {
          "name": "stdout",
          "text": "          Feature  AUC Score\n4     OverallQual   0.911808\n6       YearBuilt   0.890275\n16      GrLivArea   0.875840\n25    GarageYrBlt   0.873673\n19       FullBath   0.850811\n27     GarageArea   0.837056\n26     GarageCars   0.835853\n7    YearRemodAdd   0.805705\n12    TotalBsmtSF   0.773705\n23   TotRmsAbvGrd   0.762828\n29    OpenPorchSF   0.761059\n13       1stFlrSF   0.760525\n24     Fireplaces   0.731686\n3         LotArea   0.689312\n8      MasVnrArea   0.678342\n20       HalfBath   0.666000\n14       2ndFlrSF   0.655135\n9      BsmtFinSF1   0.640385\n28     WoodDeckSF   0.639255\n5     OverallCond   0.607265\n17   BsmtFullBath   0.601131\n21   BedroomAbvGr   0.596954\n2     LotFrontage   0.581053\n11      BsmtUnfSF   0.578562\n30  EnclosedPorch   0.563509\n35         MoSold   0.547828\n22   KitchenAbvGr   0.529226\n36         YrSold   0.526568\n10     BsmtFinSF2   0.524003\n15   LowQualFinSF   0.510416\n32    ScreenPorch   0.509432\n31      3SsnPorch   0.507861\n33       PoolArea   0.504878\n18   BsmtHalfBath   0.487512\n0              Id   0.485858\n34        MiscVal   0.474249\n1      MSSubClass   0.466639\n",
          "output_type": "stream"
        }
      ],
      "execution_count": null
    }
  ]
}
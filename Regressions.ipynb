{
  "metadata": {
    "kernelspec": {
      "language": "python",
      "display_name": "Python 3",
      "name": "python3"
    },
    "language_info": {
      "name": "python",
      "version": "3.11.13",
      "mimetype": "text/x-python",
      "codemirror_mode": {
        "name": "ipython",
        "version": 3
      },
      "pygments_lexer": "ipython3",
      "nbconvert_exporter": "python",
      "file_extension": ".py"
    },
    "kaggle": {
      "accelerator": "none",
      "dataSources": [
        {
          "sourceId": 12725879,
          "sourceType": "datasetVersion",
          "datasetId": 8043561
        },
        {
          "sourceId": 12832694,
          "sourceType": "datasetVersion",
          "datasetId": 8115793
        }
      ],
      "dockerImageVersionId": 31089,
      "isInternetEnabled": true,
      "language": "python",
      "sourceType": "notebook",
      "isGpuEnabled": false
    },
    "colab": {
      "name": "Regressions",
      "provenance": [],
      "include_colab_link": true
    }
  },
  "nbformat_minor": 0,
  "nbformat": 4,
  "cells": [
    {
      "cell_type": "markdown",
      "metadata": {
        "id": "view-in-github",
        "colab_type": "text"
      },
      "source": [
        "<a href=\"https://colab.research.google.com/github/ganesh10-code/ML_lab/blob/main/Regressions.ipynb\" target=\"_parent\"><img src=\"https://colab.research.google.com/assets/colab-badge.svg\" alt=\"Open In Colab\"/></a>"
      ]
    },
    {
      "cell_type": "code",
      "source": [
        "#Simple Linear Regression\n",
        "from sklearn.linear_model import LinearRegression\n",
        "from sklearn.metrics import mean_squared_error , r2_score\n",
        "from sklearn.model_selection import train_test_split\n",
        "import pandas as pd\n",
        "\n",
        "\n",
        "df=pd.read_csv('/kaggle/input/ganesh-datasets/house_price_train.csv')\n",
        "X=df[['BedroomAbvGr']]\n",
        "Y=df['SalePrice']\n",
        "X_train,X_test,Y_train,Y_test=train_test_split(X,Y,test_size=0.3,random_state=42)\n",
        "\n",
        "\n",
        "model=LinearRegression()\n",
        "\n",
        "model.fit(X_train,Y_train)\n",
        "\n",
        "y_pred=model.predict(X_test)\n",
        "\n",
        "y=pd.DataFrame({\"Bedrooms\":X_test.values.ravel(),\"Y Pred\":y_pred.round(1),\"Y test\":Y_test})\n",
        "print(y)\n",
        "\n",
        "mse=mean_squared_error(Y_test,y_pred)\n",
        "rmse=mse**0.5\n",
        "r2=r2_score(Y_test,y_pred)\n",
        "\n",
        "print(\"MSE: \",mse)\n",
        "print(\"RMSE: \",rmse)\n",
        "print(\"R2 Score: \",r2)\n",
        "\n"
      ],
      "metadata": {
        "trusted": true,
        "execution": {
          "iopub.status.busy": "2025-08-28T17:58:27.966416Z",
          "iopub.execute_input": "2025-08-28T17:58:27.96678Z",
          "iopub.status.idle": "2025-08-28T17:58:28.00644Z",
          "shell.execute_reply.started": "2025-08-28T17:58:27.966753Z",
          "shell.execute_reply": "2025-08-28T17:58:28.005461Z"
        },
        "id": "DocWzuPR5hyU",
        "outputId": "e750a254-eeed-4243-f0df-6cda864a5d68"
      },
      "outputs": [
        {
          "name": "stdout",
          "text": "      Bedrooms    Y Pred  Y test\n892          3  182989.3  154500\n1105         3  182989.3  325000\n413          2  167690.1  115000\n522          3  182989.3  159000\n1036         2  167690.1  315500\n...        ...       ...     ...\n331          3  182989.3  139000\n323          3  182989.3  126175\n650          3  182989.3  205950\n439          3  182989.3  110000\n798          4  198288.5  485000\n\n[438 rows x 3 columns]\nMSE:  6745999805.905119\nRMSE:  82134.0356119503\nR2 Score:  0.03326036636729657\n",
          "output_type": "stream"
        }
      ],
      "execution_count": null
    },
    {
      "cell_type": "code",
      "source": [
        "#MultiLinear Regression\n",
        "from sklearn.linear_model import LinearRegression\n",
        "from sklearn.metrics import mean_squared_error , r2_score\n",
        "from sklearn.model_selection import train_test_split\n",
        "import pandas as pd\n",
        "\n",
        "df=pd.read_csv('/kaggle/input/ganesh-datasets/house_price_train.csv')\n",
        "X=df[['BedroomAbvGr','YearBuilt','LotArea']]\n",
        "Y=df['SalePrice']\n",
        "X_train,X_test,Y_train,Y_test=train_test_split(X,Y,test_size=0.3,random_state=42)\n",
        "\n",
        "\n",
        "model=LinearRegression()\n",
        "\n",
        "model.fit(X_train,Y_train)\n",
        "\n",
        "y_pred=model.predict(X_test)\n",
        "\n",
        "y=pd.DataFrame({\"Bedrooms\":X_test['BedroomAbvGr'],\"Year_Built\":X_test['YearBuilt'],\"Lot_Area\":X_test['LotArea'],\"Y Pred\":y_pred.round(1),\"Y test\":Y_test})\n",
        "print(y)\n",
        "\n",
        "mse=mean_squared_error(Y_test,y_pred)\n",
        "rmse=mse**0.5\n",
        "r2=r2_score(Y_test,y_pred)\n",
        "\n",
        "print(\"MSE: \",mse)\n",
        "print(\"RMSE: \",rmse)\n",
        "print(\"R2 Score: \",r2)"
      ],
      "metadata": {
        "trusted": true,
        "execution": {
          "iopub.status.busy": "2025-08-28T17:58:41.910761Z",
          "iopub.execute_input": "2025-08-28T17:58:41.911084Z",
          "iopub.status.idle": "2025-08-28T17:58:41.951351Z",
          "shell.execute_reply.started": "2025-08-28T17:58:41.911061Z",
          "shell.execute_reply": "2025-08-28T17:58:41.950457Z"
        },
        "id": "bjz47cZY5hyV",
        "outputId": "044c86d2-dc14-4658-b662-5e1e0acd1d64"
      },
      "outputs": [
        {
          "name": "stdout",
          "text": "      Bedrooms  Year_Built  Lot_Area    Y Pred  Y test\n892          3        1963      8414  168771.1  154500\n1105         3        1994     12256  216356.6  325000\n413          2        1927      8960  104174.0  115000\n522          3        1947      5000  141875.4  159000\n1036         2        2007     12898  217221.4  315500\n...        ...         ...       ...       ...     ...\n331          3        1958      8176  161718.9  139000\n323          3        1955      5820  153875.7  126175\n650          3        2007      8125  226940.8  205950\n439          3        1920     12354  117892.5  110000\n798          4        2008     13518  254583.6  485000\n\n[438 rows x 5 columns]\nMSE:  4319149517.348581\nRMSE:  65720.23674142221\nR2 Score:  0.38104163324294593\n",
          "output_type": "stream"
        }
      ],
      "execution_count": null
    },
    {
      "cell_type": "code",
      "source": [
        "#Polynomial Regression\n",
        "from sklearn.linear_model import LinearRegression\n",
        "from sklearn.preprocessing import PolynomialFeatures\n",
        "from sklearn.metrics import mean_squared_error , r2_score\n",
        "from sklearn.model_selection import train_test_split\n",
        "import pandas as pd\n",
        "\n",
        "df=pd.read_csv('/kaggle/input/ganesh-datasets/house_price_train.csv')\n",
        "X=df[['BedroomAbvGr','YearBuilt','LotArea']]\n",
        "Y=df['SalePrice']\n",
        "X_train,X_test,Y_train,Y_test=train_test_split(X,Y,test_size=0.3,random_state=42)\n",
        "poly=PolynomialFeatures(degree=2)\n",
        "\n",
        "X_poly_train=poly.fit_transform(X_train)\n",
        "X_poly_test=poly.transform(X_test)\n",
        "model=LinearRegression()\n",
        "\n",
        "model.fit(X_poly_train,Y_train)\n",
        "\n",
        "y_pred=model.predict(X_poly_test)\n",
        "\n",
        "y=pd.DataFrame({\"Bedrooms\":X_test['BedroomAbvGr'],\"Year_Built\":X_test['YearBuilt'],\"Lot_Area\":X_test['LotArea'],\"Y Pred\":y_pred.round(1),\"Y test\":Y_test})\n",
        "print(y)\n",
        "\n",
        "mse=mean_squared_error(Y_test,y_pred)\n",
        "rmse=mse**0.5\n",
        "r2=r2_score(Y_test,y_pred)\n",
        "\n",
        "print(\"MSE: \",mse)\n",
        "print(\"RMSE: \",rmse)\n",
        "print(\"R2 Score: \",r2)"
      ],
      "metadata": {
        "trusted": true,
        "execution": {
          "iopub.status.busy": "2025-08-28T17:59:39.419317Z",
          "iopub.execute_input": "2025-08-28T17:59:39.419674Z",
          "iopub.status.idle": "2025-08-28T17:59:39.463675Z",
          "shell.execute_reply.started": "2025-08-28T17:59:39.419614Z",
          "shell.execute_reply": "2025-08-28T17:59:39.462579Z"
        },
        "id": "hkKnGxrm5hyW",
        "outputId": "b86b6d14-40fe-4f7f-aeb2-df42c2549e05"
      },
      "outputs": [
        {
          "name": "stdout",
          "text": "      Bedrooms  Year_Built  Lot_Area    Y Pred  Y test\n892          3        1963      8414  139228.3  154500\n1105         3        1994     12256  221259.4  325000\n413          2        1927      8960  113801.8  115000\n522          3        1947      5000  107788.5  159000\n1036         2        2007     12898  253216.6  315500\n...        ...         ...       ...       ...     ...\n331          3        1958      8176  131874.6  139000\n323          3        1955      5820  117967.4  126175\n650          3        2007      8125  240742.1  205950\n439          3        1920     12354  137267.4  110000\n798          4        2008     13518  288802.8  485000\n\n[438 rows x 5 columns]\nMSE:  3480648181.141813\nRMSE:  58997.01840891464\nR2 Score:  0.5012035807507851\n",
          "output_type": "stream"
        }
      ],
      "execution_count": null
    },
    {
      "cell_type": "code",
      "source": [
        "#LogisticRegression\n",
        "from sklearn.linear_model import LogisticRegression\n",
        "from sklearn.metrics import accuracy_score, confusion_matrix\n",
        "from sklearn.model_selection import train_test_split\n",
        "import pandas as pd\n",
        "\n",
        "df=pd.read_csv('/kaggle/input/ganesh-datasets/titanic_train.csv')\n",
        "target=\"Survived\"\n",
        "X=df[df.select_dtypes(include=['number']).columns].drop(columns=[target]).fillna(0)\n",
        "Y=df[target]\n",
        "\n",
        "X_train,X_test,Y_train,Y_test = train_test_split(X,Y,test_size=0.3,random_state=42)\n",
        "\n",
        "model=LogisticRegression(max_iter=1000)\n",
        "\n",
        "model.fit(X_train,Y_train)\n",
        "\n",
        "y_pred= model.predict(X_test)\n",
        "\n",
        "result=X_test.copy()\n",
        "result['predicted']=y_pred\n",
        "result['Actual']=Y_test.values\n",
        "\n",
        "print(\"Accuracy: \", accuracy_score(Y_test,y_pred))\n",
        "print(\"Confusion Matrix:\\n\",confusion_matrix(Y_test,y_pred))\n",
        "print(result)\n",
        "\n"
      ],
      "metadata": {
        "trusted": true,
        "execution": {
          "iopub.status.busy": "2025-08-28T18:16:07.494865Z",
          "iopub.execute_input": "2025-08-28T18:16:07.495187Z",
          "iopub.status.idle": "2025-08-28T18:16:07.993107Z",
          "shell.execute_reply.started": "2025-08-28T18:16:07.495163Z",
          "shell.execute_reply": "2025-08-28T18:16:07.992273Z"
        },
        "id": "3a6YKRTn5hyW",
        "outputId": "9b38f06b-47c8-4452-b0ae-cfdc64255d7e"
      },
      "outputs": [
        {
          "name": "stdout",
          "text": "Accuracy:  0.7164179104477612\nConfusion Matrix:\n [[136  21]\n [ 55  56]]\n     PassengerId  Pclass   Age  SibSp  Parch     Fare  predicted  Actual\n709          710       3   0.0      1      1  15.2458          0       1\n439          440       2  31.0      0      0  10.5000          0       0\n840          841       3  20.0      0      0   7.9250          0       0\n720          721       2   6.0      0      1  33.0000          1       1\n39            40       3  14.0      1      0  11.2417          0       1\n..           ...     ...   ...    ...    ...      ...        ...     ...\n821          822       3  27.0      0      0   8.6625          0       1\n633          634       1   0.0      0      0   0.0000          1       0\n456          457       1  65.0      0      0  26.5500          0       0\n500          501       3  17.0      0      0   8.6625          0       0\n430          431       1  28.0      0      0  26.5500          1       1\n\n[268 rows x 8 columns]\n",
          "output_type": "stream"
        }
      ],
      "execution_count": null
    }
  ]
}
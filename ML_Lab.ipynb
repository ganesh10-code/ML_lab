{
  "nbformat": 4,
  "nbformat_minor": 0,
  "metadata": {
    "colab": {
      "provenance": [],
      "authorship_tag": "ABX9TyP6SJRgs8G+OtkwgGbs0zWW",
      "include_colab_link": true
    },
    "kernelspec": {
      "name": "python3",
      "display_name": "Python 3"
    },
    "language_info": {
      "name": "python"
    }
  },
  "cells": [
    {
      "cell_type": "markdown",
      "metadata": {
        "id": "view-in-github",
        "colab_type": "text"
      },
      "source": [
        "<a href=\"https://colab.research.google.com/github/ganesh10-code/ML_lab/blob/main/ML_Lab.ipynb\" target=\"_parent\"><img src=\"https://colab.research.google.com/assets/colab-badge.svg\" alt=\"Open In Colab\"/></a>"
      ]
    },
    {
      "cell_type": "code",
      "execution_count": null,
      "metadata": {
        "colab": {
          "base_uri": "https://localhost:8080/"
        },
        "id": "iNKdso-r0-Mf",
        "outputId": "274a9956-3125-4f7a-f6fb-bbd35379b9bf"
      },
      "outputs": [
        {
          "output_type": "stream",
          "name": "stdout",
          "text": [
            "60\n"
          ]
        }
      ],
      "source": [
        "import numpy as np\n",
        "import pandas as pd\n",
        "data1=[1,2,3,4,5,6]\n",
        "arr1=np.array(data1)\n",
        "#print(arr1)\n",
        "data2=[[10,20,30,40],[60,70,80,90]]\n",
        "arr2=np.array(data2)\n",
        "print(arr2[1,0])"
      ]
    },
    {
      "cell_type": "markdown",
      "source": [
        "Numpy array object is called ndarray.To create numpy array object we use array() method. To check how many dimensions that array has we use ndim() method.\n",
        "To create an array with n dimension , we use attribute ndim.\n",
        "To access the arrya elements we use index.\n",
        "\n"
      ],
      "metadata": {
        "id": "Ge81IbpA5Pqw"
      }
    }
  ]
}
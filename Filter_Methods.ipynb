{
  "metadata": {
    "kernelspec": {
      "language": "python",
      "display_name": "Python 3",
      "name": "python3"
    },
    "language_info": {
      "name": "python",
      "version": "3.11.13",
      "mimetype": "text/x-python",
      "codemirror_mode": {
        "name": "ipython",
        "version": 3
      },
      "pygments_lexer": "ipython3",
      "nbconvert_exporter": "python",
      "file_extension": ".py"
    },
    "kaggle": {
      "accelerator": "none",
      "dataSources": [
        {
          "sourceId": 12423445,
          "sourceType": "datasetVersion",
          "datasetId": 7827950,
          "isSourceIdPinned": false
        },
        {
          "sourceId": 12703041,
          "sourceType": "datasetVersion",
          "datasetId": 8028309
        },
        {
          "sourceId": 12725879,
          "sourceType": "datasetVersion",
          "datasetId": 8043561
        }
      ],
      "dockerImageVersionId": 31089,
      "isInternetEnabled": true,
      "language": "python",
      "sourceType": "notebook",
      "isGpuEnabled": false
    },
    "colab": {
      "name": "Filter_Methods",
      "provenance": [],
      "include_colab_link": true
    }
  },
  "nbformat_minor": 0,
  "nbformat": 4,
  "cells": [
    {
      "cell_type": "markdown",
      "metadata": {
        "id": "view-in-github",
        "colab_type": "text"
      },
      "source": [
        "<a href=\"https://colab.research.google.com/github/ganesh10-code/ML_lab/blob/main/Filter_Methods.ipynb\" target=\"_parent\"><img src=\"https://colab.research.google.com/assets/colab-badge.svg\" alt=\"Open In Colab\"/></a>"
      ]
    },
    {
      "cell_type": "code",
      "source": [
        "#Constant Feature\n",
        "import pandas as pd\n",
        "import sklearn\n",
        "\n",
        "data=pd.read_csv(\"/kaggle/input/spotify/Spotify Youtube Dataset.csv\")\n",
        "\n",
        "numeric_cols = data.select_dtypes(include=['number']).columns\n",
        "const_features = [feature for feature in numeric_cols if data[feature].std()==0]\n",
        "print(len(const_features))"
      ],
      "metadata": {
        "trusted": true,
        "id": "wji4dXqLYZWx"
      },
      "outputs": [],
      "execution_count": null
    },
    {
      "cell_type": "code",
      "source": [
        "#Quasi Constant Feature\n",
        "import pandas as pd\n",
        "\n",
        "\n",
        "df=pd.read_csv('/kaggle/input/spotify-dataset/Spotify Youtube Dataset.csv')\n",
        "quasi_constant_features=[]\n",
        "\n",
        "for feature in df.columns:\n",
        "    predominent =(df[feature].value_counts()/float(len(df))).sort_values(ascending=False).values[0]\n",
        "\n",
        "    if predominent > 0.999:\n",
        "        quasi_constant_features.append(feature)\n",
        "\n",
        "len(quasi_constant_features)"
      ],
      "metadata": {
        "trusted": true,
        "execution": {
          "iopub.status.busy": "2025-08-07T17:41:18.409443Z",
          "iopub.execute_input": "2025-08-07T17:41:18.40973Z",
          "iopub.status.idle": "2025-08-07T17:41:18.940427Z",
          "shell.execute_reply.started": "2025-08-07T17:41:18.409709Z",
          "shell.execute_reply": "2025-08-07T17:41:18.939548Z"
        },
        "id": "jwSlD_tGYZWz",
        "outputId": "d254e53c-ad14-47fe-f140-7cf81afe9ea9"
      },
      "outputs": [
        {
          "execution_count": 4,
          "output_type": "execute_result",
          "data": {
            "text/plain": "0"
          },
          "metadata": {}
        }
      ],
      "execution_count": null
    },
    {
      "cell_type": "code",
      "source": [
        "#Duplicate Features\n",
        "import pandas as pd\n",
        "\n",
        "df = pd.read_csv('/kaggle/input/spotify-dataset/Spotify Youtube Dataset.csv')\n",
        "\n",
        "duplicate_features = []\n",
        "\n",
        "for i in range(len(df.columns)):\n",
        "    col_1=df.columns[i]\n",
        "    for col_2 in df.columns[i+1:]:\n",
        "        if df[col_1].equals(df[col_2]):\n",
        "            duplicate_features.append((col_1, col_2))\n",
        "\n",
        "print(len(duplicate_features))\n",
        "if len(duplicate_features) > 0:\n",
        "    print(\"Duplicate feature pairs:\")\n",
        "    for pair in duplicate_features:\n",
        "        print(pair)\n"
      ],
      "metadata": {
        "trusted": true,
        "execution": {
          "iopub.status.busy": "2025-08-10T13:31:35.585576Z",
          "iopub.execute_input": "2025-08-10T13:31:35.58596Z",
          "iopub.status.idle": "2025-08-10T13:31:36.224722Z",
          "shell.execute_reply.started": "2025-08-10T13:31:35.585934Z",
          "shell.execute_reply": "2025-08-10T13:31:36.223802Z"
        },
        "id": "AzEwdoGQYZW2",
        "outputId": "166e48d6-b538-4d93-c2e1-9dab99ddbaa1"
      },
      "outputs": [
        {
          "name": "stdout",
          "text": "0\n",
          "output_type": "stream"
        }
      ],
      "execution_count": null
    },
    {
      "cell_type": "code",
      "source": [
        "#Correlation Method\n",
        "import pandas as pd\n",
        "\n",
        "df=pd.read_csv('/kaggle/input/ganesh-datasets/Santander Customer Satisfaction_train.csv')\n",
        "\n",
        "numeric_cols = df.select_dtypes(include=['number']).columns\n",
        "x_train= df[numeric_cols]\n",
        "#Calculating Correlation matrix\n",
        "corr_matrix = x_train.corr()\n",
        "threshold = 0.9\n",
        "corr_features = set()\n",
        "\n",
        "for i in range(len(corr_matrix)):\n",
        "    for j in range(i):\n",
        "        if abs(corr_matrix.iloc[i,j] > threshold):\n",
        "            corr_features.add(corr_matrix.columns[i])\n",
        "\n",
        "print(len(corr_features))\n",
        "print(corr_features)\n"
      ],
      "metadata": {
        "trusted": true,
        "execution": {
          "iopub.status.busy": "2025-08-10T13:44:56.352214Z",
          "iopub.execute_input": "2025-08-10T13:44:56.352502Z",
          "iopub.status.idle": "2025-08-10T13:45:28.017443Z",
          "shell.execute_reply.started": "2025-08-10T13:44:56.35248Z",
          "shell.execute_reply": "2025-08-10T13:45:28.01662Z"
        },
        "id": "8iqjcgeOYZW4",
        "outputId": "5bcc9873-ca1c-41db-aa76-de993fc2ff98"
      },
      "outputs": [
        {
          "name": "stdout",
          "text": "166\n{'ind_var10cte_ult1', 'num_op_var41_comer_ult1', 'num_var34_0', 'saldo_medio_var13_medio_ult1', 'num_var5_0', 'num_var13_0', 'ind_var44', 'imp_venta_var44_ult1', 'num_venta_var44_hace3', 'ind_var32', 'delta_num_reemb_var17_1y3', 'num_op_var41_efect_ult3', 'num_op_var41_comer_ult3', 'num_var13_largo_0', 'imp_op_var41_comer_ult3', 'imp_amort_var34_ult1', 'num_op_var40_ult3', 'num_var12', 'saldo_medio_var8_ult1', 'saldo_medio_var12_ult3', 'num_var24_0', 'num_op_var39_ult1', 'num_var29', 'num_var34', 'num_var32', 'num_trasp_var17_out_ult1', 'ind_var40', 'ind_var32_0', 'num_reemb_var13_ult1', 'num_op_var39_comer_ult3', 'num_var35', 'num_var40_0', 'saldo_medio_var17_ult3', 'saldo_var24', 'num_var13_largo', 'delta_imp_amort_var34_1y3', 'num_op_var39_efect_ult3', 'ind_var26', 'ind_var39', 'num_var32_0', 'num_var29_0', 'imp_op_var39_efect_ult3', 'ind_var13_corto_0', 'saldo_var42', 'imp_reemb_var33_ult1', 'delta_num_compra_var44_1y3', 'num_op_var40_comer_ult3', 'num_var37_0', 'imp_op_var39_ult1', 'delta_num_trasp_var17_in_1y3', 'imp_aport_var17_hace3', 'saldo_medio_var29_ult1', 'ind_var31', 'num_meses_var13_medio_ult3', 'saldo_medio_var13_corto_ult1', 'delta_num_reemb_var33_1y3', 'num_var14', 'num_var31_0', 'delta_num_aport_var33_1y3', 'ind_var13_medio', 'num_var40', 'saldo_var6', 'saldo_var31', 'imp_op_var41_comer_ult1', 'num_var13_medio', 'saldo_medio_var13_corto_ult3', 'saldo_medio_var13_largo_ult1', 'ind_var24', 'delta_num_aport_var17_1y3', 'saldo_medio_var29_ult3', 'saldo_medio_var33_ult3', 'delta_num_trasp_var17_out_1y3', 'saldo_medio_var8_ult3', 'ind_var29', 'num_var45_ult3', 'ind_var33', 'saldo_medio_var13_medio_hace2', 'num_var13', 'ind_var26_0', 'num_var5', 'num_var33', 'ind_var13_corto', 'ind_var25', 'num_var6', 'num_trasp_var33_in_ult1', 'num_var8_0', 'delta_num_trasp_var33_in_1y3', 'saldo_medio_var13_largo_ult3', 'num_var39', 'num_reemb_var33_ult1', 'num_var13_corto', 'saldo_var34', 'num_var18_0', 'num_meses_var13_corto_ult3', 'num_trasp_var33_out_ult1', 'imp_trasp_var33_out_ult1', 'ind_var8', 'saldo_medio_var33_ult1', 'num_op_var39_hace3', 'delta_imp_amort_var18_1y3', 'delta_num_aport_var13_1y3', 'ind_var40_0', 'num_var25', 'ind_var29_0', 'num_var18', 'ind_var34', 'imp_amort_var18_ult1', 'num_var20_0', 'saldo_medio_var13_medio_ult3', 'imp_op_var39_efect_ult1', 'num_med_var22_ult3', 'num_op_var41_ult3', 'num_op_var39_ult3', 'num_trasp_var33_in_hace3', 'saldo_medio_var44_ult1', 'num_meses_var17_ult3', 'num_meses_var12_ult3', 'num_var20', 'num_var45_hace2', 'num_var1', 'num_var25_0', 'delta_num_venta_var44_1y3', 'ind_var13', 'ind_var37', 'num_trasp_var17_in_hace3', 'num_op_var39_comer_ult1', 'saldo_var25', 'num_var13_medio_0', 'num_meses_var8_ult3', 'saldo_medio_var17_hace3', 'ind_var9_cte_ult1', 'ind_var26_cte', 'ind_var18', 'num_reemb_var17_hace3', 'ind_var13_largo', 'num_var6_0', 'num_op_var39_hace2', 'num_meses_var5_ult3', 'saldo_var18', 'num_var33_0', 'num_var41_0', 'saldo_medio_var17_hace2', 'num_var26', 'ind_var37_0', 'ind_var25_0', 'num_var24', 'num_var13_corto_0', 'ind_var9_ult1', 'num_var37', 'num_var42_0', 'num_op_var39_efect_ult1', 'num_var44_0', 'saldo_var29', 'saldo_medio_var12_ult1', 'saldo_medio_var17_ult1', 'ind_var41_0', 'num_var7_emit_ult1', 'delta_num_reemb_var13_1y3', 'delta_num_trasp_var33_out_1y3', 'num_var1_0', 'num_meses_var44_ult3', 'num_trasp_var17_in_ult1', 'saldo_medio_var44_ult3', 'num_meses_var33_ult3', 'num_var8', 'num_var44'}\n",
          "output_type": "stream"
        }
      ],
      "execution_count": null
    },
    {
      "cell_type": "code",
      "source": [
        "#Mutual Information(MI) for classification\n",
        "import pandas as pd\n",
        "from sklearn.feature_selection import mutual_info_classif\n",
        "\n",
        "df=pd.read_csv('/kaggle/input/ganesh-datasets/titanic_train.csv')\n",
        "target='Survived'\n",
        "X_train=df[df.select_dtypes(include=['number']).columns].drop(columns=[target])\n",
        "X_train = X_train.fillna(0)\n",
        "Y_train=df[target]\n",
        "#Calculating MI Score\n",
        "mi_scores = mutual_info_classif(X_train,Y_train,random_state=10)\n",
        "mi_df=pd.DataFrame({'Feature': X_train.columns, \"MI Score\":mi_scores}).sort_values(by='MI Score', ascending=False)\n",
        "print(mi_df)\n",
        "\n"
      ],
      "metadata": {
        "trusted": true,
        "execution": {
          "iopub.status.busy": "2025-08-10T14:03:13.014334Z",
          "iopub.execute_input": "2025-08-10T14:03:13.014724Z",
          "iopub.status.idle": "2025-08-10T14:03:13.066448Z",
          "shell.execute_reply.started": "2025-08-10T14:03:13.014699Z",
          "shell.execute_reply": "2025-08-10T14:03:13.065441Z"
        },
        "id": "h3xEpZV5YZW6",
        "outputId": "0b67bddf-919f-4ec4-aaf2-f4994a93a832"
      },
      "outputs": [
        {
          "name": "stdout",
          "text": "       Feature  MI Score\n5         Fare  0.131706\n1       Pclass  0.032713\n3        SibSp  0.032421\n0  PassengerId  0.017301\n2          Age  0.013147\n4        Parch  0.012591\n",
          "output_type": "stream"
        }
      ],
      "execution_count": null
    },
    {
      "cell_type": "code",
      "source": [
        "#Mutual Information(MI) for Regression\n",
        "import pandas as pd\n",
        "from sklearn.feature_selection import mutual_info_regression\n",
        "\n",
        "df=pd.read_csv('/kaggle/input/ganesh-datasets/house_price_train.csv')\n",
        "target='SalePrice'\n",
        "X_train=df[df.select_dtypes(include=['number']).columns].drop(columns=[target])\n",
        "X_train = X_train.fillna(0)\n",
        "Y_train=df[target]\n",
        "#Calculating MI Score\n",
        "mi_scores = mutual_info_regression(X_train,Y_train,random_state=10)\n",
        "mi_df=pd.DataFrame({'Feature': X_train.columns, \"MI Score\":mi_scores}).sort_values(by='MI Score', ascending=False)\n",
        "print(mi_df)\n"
      ],
      "metadata": {
        "trusted": true,
        "execution": {
          "iopub.status.busy": "2025-08-10T14:27:23.86843Z",
          "iopub.execute_input": "2025-08-10T14:27:23.86886Z",
          "iopub.status.idle": "2025-08-10T14:27:24.313254Z",
          "shell.execute_reply.started": "2025-08-10T14:27:23.868833Z",
          "shell.execute_reply": "2025-08-10T14:27:24.312288Z"
        },
        "id": "nxRELXNSYZW9",
        "outputId": "dd0f0724-cc24-4502-d3d3-38eaf77bd29a"
      },
      "outputs": [
        {
          "name": "stdout",
          "text": "          Feature  MI Score\n4     OverallQual  0.549277\n16      GrLivArea  0.478542\n12    TotalBsmtSF  0.368951\n27     GarageArea  0.367009\n26     GarageCars  0.363995\n6       YearBuilt  0.363419\n13       1stFlrSF  0.310532\n1      MSSubClass  0.268920\n19       FullBath  0.267907\n25    GarageYrBlt  0.258949\n7    YearRemodAdd  0.246866\n23   TotRmsAbvGrd  0.217396\n2     LotFrontage  0.203952\n14       2ndFlrSF  0.197334\n24     Fireplaces  0.161999\n3         LotArea  0.158787\n9      BsmtFinSF1  0.150291\n29    OpenPorchSF  0.142309\n11      BsmtUnfSF  0.120579\n5     OverallCond  0.114829\n28     WoodDeckSF  0.107965\n8      MasVnrArea  0.088089\n20       HalfBath  0.078535\n21   BedroomAbvGr  0.056817\n30  EnclosedPorch  0.028003\n17   BsmtFullBath  0.027329\n32    ScreenPorch  0.019312\n22   KitchenAbvGr  0.017266\n36         YrSold  0.009383\n10     BsmtFinSF2  0.006863\n18   BsmtHalfBath  0.005680\n33       PoolArea  0.005037\n31      3SsnPorch  0.001091\n34        MiscVal  0.000002\n15   LowQualFinSF  0.000000\n35         MoSold  0.000000\n0              Id  0.000000\n",
          "output_type": "stream"
        }
      ],
      "execution_count": null
    }
  ]
}
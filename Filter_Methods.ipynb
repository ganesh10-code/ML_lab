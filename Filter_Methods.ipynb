{
  "metadata": {
    "kernelspec": {
      "language": "python",
      "display_name": "Python 3",
      "name": "python3"
    },
    "language_info": {
      "name": "python",
      "version": "3.11.13",
      "mimetype": "text/x-python",
      "codemirror_mode": {
        "name": "ipython",
        "version": 3
      },
      "pygments_lexer": "ipython3",
      "nbconvert_exporter": "python",
      "file_extension": ".py"
    },
    "kaggle": {
      "accelerator": "none",
      "dataSources": [
        {
          "sourceId": 12423445,
          "sourceType": "datasetVersion",
          "datasetId": 7827950,
          "isSourceIdPinned": false
        },
        {
          "sourceId": 12703041,
          "sourceType": "datasetVersion",
          "datasetId": 8028309
        }
      ],
      "dockerImageVersionId": 31089,
      "isInternetEnabled": true,
      "language": "python",
      "sourceType": "notebook",
      "isGpuEnabled": false
    },
    "colab": {
      "name": "Filter_Methods",
      "provenance": [],
      "include_colab_link": true
    }
  },
  "nbformat_minor": 0,
  "nbformat": 4,
  "cells": [
    {
      "cell_type": "markdown",
      "metadata": {
        "id": "view-in-github",
        "colab_type": "text"
      },
      "source": [
        "<a href=\"https://colab.research.google.com/github/ganesh10-code/ML_lab/blob/main/Filter_Methods.ipynb\" target=\"_parent\"><img src=\"https://colab.research.google.com/assets/colab-badge.svg\" alt=\"Open In Colab\"/></a>"
      ]
    },
    {
      "cell_type": "code",
      "source": [
        "#Constant Feature\n",
        "import pandas as pd\n",
        "import sklearn\n",
        "\n",
        "data=pd.read_csv(\"/content/Spotify Youtube Dataset.csv\")\n",
        "\n",
        "numeric_cols = data.select_dtypes(include=['number']).columns\n",
        "const_features = [feature for feature in numeric_cols if data[feature].std()==0]\n",
        "print(len(const_features))"
      ],
      "metadata": {
        "trusted": true,
        "id": "14UpsmTurx3y",
        "outputId": "16f6446e-25bf-425b-e083-8ac5f97d3168",
        "colab": {
          "base_uri": "https://localhost:8080/"
        }
      },
      "outputs": [
        {
          "output_type": "stream",
          "name": "stdout",
          "text": [
            "0\n"
          ]
        }
      ],
      "execution_count": 4
    },
    {
      "cell_type": "code",
      "source": [
        "#Quasi Constant Feature\n",
        "import pandas as pd\n",
        "\n",
        "\n",
        "df=pd.read_csv('/content/Spotify Youtube Dataset.csv')\n",
        "quasi_constant_features=[]\n",
        "\n",
        "for feature in df.columns:\n",
        "    predominent =(df[feature].value_counts()/float(len(df))).sort_values(ascending=False).values[0]\n",
        "\n",
        "    if predominent > 0.999:\n",
        "        quasi_constant_features.append(feature)\n",
        "\n",
        "len(quasi_constant_features)"
      ],
      "metadata": {
        "trusted": true,
        "execution": {
          "iopub.status.busy": "2025-08-07T17:41:18.409443Z",
          "iopub.execute_input": "2025-08-07T17:41:18.40973Z",
          "iopub.status.idle": "2025-08-07T17:41:18.940427Z",
          "shell.execute_reply.started": "2025-08-07T17:41:18.409709Z",
          "shell.execute_reply": "2025-08-07T17:41:18.939548Z"
        },
        "id": "gXtBOJBlrx3z",
        "outputId": "a0d8d3de-a229-4220-f2de-96a5223a40a0",
        "colab": {
          "base_uri": "https://localhost:8080/"
        }
      },
      "outputs": [
        {
          "output_type": "execute_result",
          "data": {
            "text/plain": [
              "0"
            ]
          },
          "metadata": {},
          "execution_count": 5
        }
      ],
      "execution_count": 5
    },
    {
      "cell_type": "code",
      "source": [
        "#Duplicate Features\n",
        "import pandas as pd\n",
        "\n",
        "df = pd.read_csv('/content/Spotify Youtube Dataset.csv')\n",
        "\n",
        "duplicate_features = []\n",
        "\n",
        "for i in range(len(df.columns)):\n",
        "    col_1=df.columns[i]\n",
        "    for col_2 in df.columns[i+1:]:\n",
        "        if df[col_1].equals(df[col_2]):\n",
        "            duplicate_features.append((col_1, col_2))\n",
        "\n",
        "print(len(duplicate_features))\n",
        "if len(duplicate_features) > 0:\n",
        "    print(\"Duplicate feature pairs:\")\n",
        "    for pair in duplicate_features:\n",
        "        print(pair)\n"
      ],
      "metadata": {
        "trusted": true,
        "execution": {
          "iopub.status.busy": "2025-08-07T17:54:30.506538Z",
          "iopub.execute_input": "2025-08-07T17:54:30.506873Z",
          "iopub.status.idle": "2025-08-07T17:54:30.940413Z",
          "shell.execute_reply.started": "2025-08-07T17:54:30.50685Z",
          "shell.execute_reply": "2025-08-07T17:54:30.939609Z"
        },
        "id": "6l4Jry0Orx32",
        "outputId": "2a49d9fd-8245-43fa-a4d3-904217a2236c",
        "colab": {
          "base_uri": "https://localhost:8080/"
        }
      },
      "outputs": [
        {
          "output_type": "stream",
          "name": "stdout",
          "text": [
            "0\n"
          ]
        }
      ],
      "execution_count": 6
    }
  ]
}
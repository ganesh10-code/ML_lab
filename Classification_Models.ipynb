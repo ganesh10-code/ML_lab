{
  "metadata": {
    "kernelspec": {
      "language": "python",
      "display_name": "Python 3",
      "name": "python3"
    },
    "language_info": {
      "name": "python",
      "version": "3.11.13",
      "mimetype": "text/x-python",
      "codemirror_mode": {
        "name": "ipython",
        "version": 3
      },
      "pygments_lexer": "ipython3",
      "nbconvert_exporter": "python",
      "file_extension": ".py"
    },
    "kaggle": {
      "accelerator": "none",
      "dataSources": [
        {
          "sourceId": 3106815,
          "sourceType": "datasetVersion",
          "datasetId": 1897041
        },
        {
          "sourceId": 12898053,
          "sourceType": "datasetVersion",
          "datasetId": 8160856
        },
        {
          "sourceId": 13034642,
          "sourceType": "datasetVersion",
          "datasetId": 8253417
        }
      ],
      "dockerImageVersionId": 31089,
      "isInternetEnabled": true,
      "language": "python",
      "sourceType": "notebook",
      "isGpuEnabled": false
    },
    "colab": {
      "name": "Classification_Models",
      "provenance": [],
      "include_colab_link": true
    }
  },
  "nbformat_minor": 0,
  "nbformat": 4,
  "cells": [
    {
      "cell_type": "markdown",
      "metadata": {
        "id": "view-in-github",
        "colab_type": "text"
      },
      "source": [
        "<a href=\"https://colab.research.google.com/github/ganesh10-code/ML_lab/blob/main/Classification_Models.ipynb\" target=\"_parent\"><img src=\"https://colab.research.google.com/assets/colab-badge.svg\" alt=\"Open In Colab\"/></a>"
      ]
    },
    {
      "cell_type": "markdown",
      "source": [
        "# Decision Tree"
      ],
      "metadata": {
        "id": "xmtTd8-RBrZj"
      }
    },
    {
      "cell_type": "code",
      "source": [
        "#Decision Tree\n",
        "import pandas as pd\n",
        "from sklearn.model_selection import train_test_split\n",
        "from sklearn.metrics import confusion_matrix, classification_report\n",
        "from sklearn.tree import DecisionTreeClassifier, plot_tree\n",
        "import matplotlib.pyplot as plt\n",
        "\n",
        "data=pd.read_csv('/kaggle/input/diabetes-dataset/diabetes_DT.csv')\n",
        "target='Outcome'\n",
        "X = data.drop(columns=[target])\n",
        "Y = data[target]\n",
        "\n",
        "X_train,X_test,Y_train,Y_test = train_test_split(X,Y,random_state=42,test_size=0.3)\n",
        "\n",
        "dtc = DecisionTreeClassifier(criterion='gini',random_state=42,max_depth=6)\n",
        "dtc.fit(X_train,Y_train)\n",
        "\n",
        "#Feature Importance\n",
        "feature_importance= dtc.feature_importances_\n",
        "important_features=pd.DataFrame({'Features':X.columns,'Importance':feature_importance}).sort_values(by=\"Importance\",ascending=False)\n",
        "print(important_features)\n",
        "\n",
        "#Tree Structure\n",
        "plt.figure(figsize=(40,20))\n",
        "plot_tree(dtc, feature_names=list(X.columns),class_names=['No Diabetes','Diabetes'],filled=True,rounded=True, fontsize=12)\n",
        "plt.show()\n",
        "\n",
        "#Accuracy Score\n",
        "accuracy=dtc.score(X_test,Y_test)\n",
        "print(f'Accuracy:{accuracy:.3f}')\n",
        "\n",
        "Y_pred=dtc.predict(X_test)\n",
        "print(\"Confusion Matrix:\\n\",confusion_matrix(Y_test,Y_pred))\n",
        "print(\"Classification Report:\\n\", classification_report(Y_test,Y_pred))\n"
      ],
      "metadata": {
        "trusted": true,
        "execution": {
          "iopub.status.busy": "2025-09-17T14:13:58.323956Z",
          "iopub.execute_input": "2025-09-17T14:13:58.324652Z"
        },
        "id": "EYNyew4NBrZl",
        "outputId": "a66bf019-3ac9-4758-e9ea-d3169231b809"
      },
      "outputs": [
        {
          "name": "stdout",
          "text": "                   Features  Importance\n1                   Glucose    0.487580\n5                       BMI    0.198518\n7                       Age    0.176927\n2             BloodPressure    0.060501\n6  DiabetesPedigreeFunction    0.057969\n4                   Insulin    0.011733\n0               Pregnancies    0.006771\n3             SkinThickness    0.000000\n",
          "output_type": "stream"
        }
      ],
      "execution_count": null
    },
    {
      "cell_type": "markdown",
      "source": [
        "# Naive Bayes"
      ],
      "metadata": {
        "id": "2NgMl5xJBrZm"
      }
    },
    {
      "cell_type": "code",
      "source": [
        "#Naive Bayes Model on Loan Dataset\n",
        "\n",
        "import pandas as pd\n",
        "from sklearn.model_selection import train_test_split\n",
        "from sklearn.metrics import accuracy_score, confusion_matrix, classification_report\n",
        "from sklearn.naive_bayes import GaussianNB\n",
        "from sklearn.preprocessing import LabelEncoder\n",
        "\n",
        "#Loading the dataset\n",
        "df=pd.read_csv('/kaggle/input/loan-default-dataset/Loan_Default.csv')\n",
        "\n",
        "\n",
        "#Data preprocessing for model training\n",
        "df=df.drop(columns=['ID'])\n",
        "\n",
        "categorical_features=df.select_dtypes(include=['object']).columns\n",
        "\n",
        "#handling missing values\n",
        "for col in df.columns:\n",
        "    if col in categorical_features:     #categorical\n",
        "        df[col]=df[col].fillna('Missing')\n",
        "    else:                             #numeric\n",
        "        df[col]=df[col].fillna(df[col].mean())\n",
        "\n",
        "#Encoding categorical features\n",
        "le=LabelEncoder()\n",
        "for col in categorical_features:\n",
        "    df[col]=le.fit_transform(df[col])\n",
        "\n",
        "#splitting into Features and target\n",
        "target=\"Status\"\n",
        "X=df.drop(columns=[target])\n",
        "Y=df[target]\n",
        "\n",
        "#Splitting the train and test data\n",
        "X_train,X_test,Y_train,Y_test = train_test_split(X,Y,test_size=0.3, random_state=42)\n",
        "\n",
        "#Initializing the Naive Bayes Model\n",
        "nb=GaussianNB()\n",
        "\n",
        "#Training the model\n",
        "nb.fit(X_train,Y_train)\n",
        "\n",
        "#predicting the test samples\n",
        "Y_pred=nb.predict(X_test)\n",
        "\n",
        "#performance Metrics\n",
        "print(\"Accuracy: \",accuracy_score(Y_test,Y_pred))\n",
        "print(\"Confusion Matrix: \\n\",confusion_matrix(Y_test,Y_pred))\n",
        "print(\"Classification Report:\\n\",classification_report(Y_test,Y_pred))"
      ],
      "metadata": {
        "trusted": true,
        "execution": {
          "iopub.status.busy": "2025-09-17T10:03:28.833483Z",
          "iopub.execute_input": "2025-09-17T10:03:28.833787Z",
          "iopub.status.idle": "2025-09-17T10:03:33.065372Z",
          "shell.execute_reply.started": "2025-09-17T10:03:28.833767Z",
          "shell.execute_reply": "2025-09-17T10:03:33.063968Z"
        },
        "id": "kubhuOaHBrZn",
        "outputId": "e99a7dfe-0c1e-415e-8358-3a333d1d6a1e"
      },
      "outputs": [
        {
          "name": "stdout",
          "text": "Accuracy:  0.9065043384677474\nConfusion Matrix: \n [[29592  4095]\n [   75 10839]]\nClassification Report:\n               precision    recall  f1-score   support\n\n           0       1.00      0.88      0.93     33687\n           1       0.73      0.99      0.84     10914\n\n    accuracy                           0.91     44601\n   macro avg       0.86      0.94      0.89     44601\nweighted avg       0.93      0.91      0.91     44601\n\n",
          "output_type": "stream"
        }
      ],
      "execution_count": null
    },
    {
      "cell_type": "markdown",
      "source": [
        "# Support Vector Machine"
      ],
      "metadata": {
        "id": "Lo7Vo3sDBrZo"
      }
    },
    {
      "cell_type": "code",
      "source": [
        "#Support Vector Classification\n",
        "import pandas as pd\n",
        "from sklearn.svm import SVC\n",
        "from sklearn.datasets import load_breast_cancer\n",
        "from sklearn.model_selection import train_test_split\n",
        "from sklearn.preprocessing import StandardScaler\n",
        "from sklearn.metrics import accuracy_score,confusion_matrix, classification_report\n",
        "\n",
        "#Loading the dataset\n",
        "dataset=load_breast_cancer()\n",
        "X=pd.DataFrame(dataset.data,columns=dataset.feature_names)\n",
        "Y=pd.Series(dataset.target)\n",
        "\n",
        "#Splitting the data into test & train\n",
        "X_train,X_test,Y_train,Y_test=train_test_split(X,Y,test_size=0.3,random_state=42)\n",
        "\n",
        "#Initializing Scaler to standardize features\n",
        "scaler=StandardScaler()\n",
        "X_train=scaler.fit_transform(X_train)\n",
        "X_test=scaler.fit_transform(X_test)\n",
        "\n",
        "#Initializing the SVC model\n",
        "svm_clf=SVC(kernel='rbf',C=1.0,gamma='scale',random_state=42)\n",
        "svm_clf.fit(X_train,Y_train)   #Training with train data\n",
        "\n",
        "#predicting for test data\n",
        "Y_pred=svm_clf.predict(X_test)\n",
        "\n",
        "#Evaluating the model\n",
        "print(\"Accuracy: \",accuracy_score(Y_test,Y_pred))\n",
        "print(\"Confusion Matrix:\\n\",confusion_matrix(Y_test,Y_pred))\n",
        "print(\"Classification Report:\\n\",classification_report(Y_test,Y_pred))"
      ],
      "metadata": {
        "trusted": true,
        "execution": {
          "iopub.status.busy": "2025-09-17T12:37:11.054383Z",
          "iopub.execute_input": "2025-09-17T12:37:11.054748Z",
          "iopub.status.idle": "2025-09-17T12:37:11.105811Z",
          "shell.execute_reply.started": "2025-09-17T12:37:11.054725Z",
          "shell.execute_reply": "2025-09-17T12:37:11.104251Z"
        },
        "id": "kNCXbJhjBrZo",
        "outputId": "d79c9f79-e81e-4e46-d381-498490e3a3a5"
      },
      "outputs": [
        {
          "name": "stdout",
          "text": "Accuracy:  0.9824561403508771\nConfusion Matrix:\n [[ 61   2]\n [  1 107]]\nClassification Report:\n               precision    recall  f1-score   support\n\n           0       0.98      0.97      0.98        63\n           1       0.98      0.99      0.99       108\n\n    accuracy                           0.98       171\n   macro avg       0.98      0.98      0.98       171\nweighted avg       0.98      0.98      0.98       171\n\n",
          "output_type": "stream"
        }
      ],
      "execution_count": null
    },
    {
      "cell_type": "markdown",
      "source": [
        "# K-Nearest Neighbor (KNN)"
      ],
      "metadata": {
        "id": "gWrGPsRFBrZp"
      }
    },
    {
      "cell_type": "code",
      "source": [
        "#KNN on Iris Dataset\n",
        "import pandas as pd\n",
        "from sklearn.datasets import load_iris\n",
        "from sklearn.neighbors import KNeighborsClassifier as KNN\n",
        "from sklearn.model_selection import train_test_split\n",
        "from sklearn.metrics import accuracy_score,classification_report,confusion_matrix\n",
        "from sklearn.preprocessing import StandardScaler\n",
        "\n",
        "#Loading the IRIS Dataset\n",
        "data=load_iris()\n",
        "\n",
        "X=pd.DataFrame(data.data, columns=data.feature_names)\n",
        "Y=pd.Series(data.target)\n",
        "\n",
        "#Splitting the data into train & test\n",
        "X_train,X_test,Y_train,Y_test=train_test_split(X,Y,test_size=0.3,random_state=42)\n",
        "\n",
        "#Standardizing the features\n",
        "scaler=StandardScaler()\n",
        "X_train=scaler.fit_transform(X_train)\n",
        "X_test=scaler.fit_transform(X_test)\n",
        "\n",
        "#Initialize KNN model\n",
        "knn=KNN(n_neighbors=6,metric='minkowski',p=2)\n",
        "knn.fit(X_train,Y_train)\n",
        "\n",
        "#prediction\n",
        "Y_pred=knn.predict(X_test)\n",
        "\n",
        "#Evaluating performance\n",
        "print(\"Accuracy: \",accuracy_score(Y_test,Y_pred))\n",
        "print(\"Confusion Matrix:\\n\",confusion_matrix(Y_test,Y_pred))\n",
        "print(\"Classification Report:\\n\",classification_report(Y_test,Y_pred))"
      ],
      "metadata": {
        "trusted": true,
        "execution": {
          "iopub.status.busy": "2025-09-17T14:10:55.847177Z",
          "iopub.execute_input": "2025-09-17T14:10:55.848326Z",
          "iopub.status.idle": "2025-09-17T14:10:55.878409Z",
          "shell.execute_reply.started": "2025-09-17T14:10:55.848288Z",
          "shell.execute_reply": "2025-09-17T14:10:55.877462Z"
        },
        "id": "vy6zGIyrBrZp",
        "outputId": "2b27a06f-4b60-456b-8ded-33818388acdc"
      },
      "outputs": [
        {
          "name": "stdout",
          "text": "Accuracy:  0.9555555555555556\nConfusion Matrix:\n [[19  0  0]\n [ 0 11  2]\n [ 0  0 13]]\nClassification Report:\n               precision    recall  f1-score   support\n\n           0       1.00      1.00      1.00        19\n           1       1.00      0.85      0.92        13\n           2       0.87      1.00      0.93        13\n\n    accuracy                           0.96        45\n   macro avg       0.96      0.95      0.95        45\nweighted avg       0.96      0.96      0.96        45\n\n",
          "output_type": "stream"
        }
      ],
      "execution_count": null
    }
  ]
}
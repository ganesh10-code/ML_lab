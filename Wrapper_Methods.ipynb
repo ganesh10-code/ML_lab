{
  "metadata": {
    "kernelspec": {
      "language": "python",
      "display_name": "Python 3",
      "name": "python3"
    },
    "language_info": {
      "name": "python",
      "version": "3.11.13",
      "mimetype": "text/x-python",
      "codemirror_mode": {
        "name": "ipython",
        "version": 3
      },
      "pygments_lexer": "ipython3",
      "nbconvert_exporter": "python",
      "file_extension": ".py"
    },
    "kaggle": {
      "accelerator": "none",
      "dataSources": [
        {
          "sourceId": 12725879,
          "sourceType": "datasetVersion",
          "datasetId": 8043561
        }
      ],
      "dockerImageVersionId": 31089,
      "isInternetEnabled": true,
      "language": "python",
      "sourceType": "notebook",
      "isGpuEnabled": false
    },
    "colab": {
      "name": "Wrapper_Methods",
      "provenance": [],
      "include_colab_link": true
    }
  },
  "nbformat_minor": 0,
  "nbformat": 4,
  "cells": [
    {
      "cell_type": "markdown",
      "metadata": {
        "id": "view-in-github",
        "colab_type": "text"
      },
      "source": [
        "<a href=\"https://colab.research.google.com/github/ganesh10-code/ML_lab/blob/main/Wrapper_Methods.ipynb\" target=\"_parent\"><img src=\"https://colab.research.google.com/assets/colab-badge.svg\" alt=\"Open In Colab\"/></a>"
      ]
    },
    {
      "cell_type": "code",
      "source": [
        "#Forward Selection\n",
        "from mlxtend.feature_selection import SequentialFeatureSelector as SFS\n",
        "from sklearn.linear_model import LogisticRegression\n",
        "import pandas as pd\n",
        "\n",
        "df=pd.read_csv('/kaggle/input/ganesh-datasets/titanic_train.csv')\n",
        "target='Survived'\n",
        "X_train=df[df.select_dtypes(include=['number']).columns].drop(columns=[target]).fillna(0)\n",
        "Y_train=df[target]\n",
        "\n",
        "model= LogisticRegression(max_iter=1000)\n",
        "\n",
        "sfs = SFS(model,k_features=5,forward=True,floating=False,scoring='accuracy',cv=5)\n",
        "\n",
        "sfs.fit(X_train,Y_train)\n",
        "\n",
        "print(\"Selected features: \",sfs.k_feature_names_)\n",
        "print(\"CV Accuracy score:\", sfs.k_score_)"
      ],
      "metadata": {
        "trusted": true,
        "execution": {
          "iopub.status.busy": "2025-08-23T15:49:10.573621Z",
          "iopub.execute_input": "2025-08-23T15:49:10.573964Z",
          "iopub.status.idle": "2025-08-23T15:49:22.467052Z",
          "shell.execute_reply.started": "2025-08-23T15:49:10.57394Z",
          "shell.execute_reply": "2025-08-23T15:49:22.464906Z"
        },
        "id": "PE6sxnmq1aFI",
        "outputId": "c57e0cff-4d22-461b-e8ba-2a952acf5264"
      },
      "outputs": [
        {
          "name": "stdout",
          "text": "Selected features:  ('PassengerId', 'Pclass', 'Age', 'Parch', 'Fare')\nCV Accuracy score: 0.7049023915636181\n",
          "output_type": "stream"
        }
      ],
      "execution_count": null
    },
    {
      "cell_type": "code",
      "source": [
        "#Backward Selection\n",
        "from mlxtend.feature_selection import SequentialFeatureSelector as SFS\n",
        "from sklearn.linear_model import LinearRegression\n",
        "import pandas as pd\n",
        "\n",
        "df=pd.read_csv('/kaggle/input/ganesh-datasets/house_price_train.csv')\n",
        "target='SalePrice'\n",
        "X_train=df[df.select_dtypes(include=['number']).columns].drop(columns=[target]).fillna(0)\n",
        "Y_train=df[target]\n",
        "\n",
        "model= LinearRegression()\n",
        "\n",
        "sfs = SFS(model,k_features=5,forward=False,floating=False,scoring='r2',cv=5)\n",
        "\n",
        "sfs.fit(X_train,Y_train)\n",
        "\n",
        "print(\"Selected features: \",sfs.k_feature_names_)\n",
        "print(\"CV Accuracy score:\", sfs.k_score_)"
      ],
      "metadata": {
        "trusted": true,
        "execution": {
          "iopub.status.busy": "2025-08-21T19:02:42.495256Z",
          "iopub.execute_input": "2025-08-21T19:02:42.495568Z",
          "iopub.status.idle": "2025-08-21T19:03:00.904645Z",
          "shell.execute_reply.started": "2025-08-21T19:02:42.495548Z",
          "shell.execute_reply": "2025-08-21T19:03:00.903795Z"
        },
        "id": "EpoX2LET1aFM",
        "outputId": "7f0bd9dd-fbd0-4df3-e572-299ddba443ab"
      },
      "outputs": [
        {
          "name": "stdout",
          "text": "Selected features:  ('MSSubClass', 'OverallQual', 'YearBuilt', 'GrLivArea', 'BsmtFullBath')\nCV Accuracy score: 0.768976918373802\n",
          "output_type": "stream"
        }
      ],
      "execution_count": null
    },
    {
      "cell_type": "code",
      "source": [
        "#Exhaustive Search\n",
        "from mlxtend.feature_selection import ExhaustiveFeatureSelector as EFS\n",
        "from sklearn.linear_model import LogisticRegression\n",
        "import pandas as pd\n",
        "\n",
        "df=pd.read_csv('/kaggle/input/ganesh-datasets/titanic_train.csv')\n",
        "target='Survived'\n",
        "X_train=df[df.select_dtypes(include=['number']).columns].drop(columns=[target]).fillna(0)\n",
        "Y_train=df[target]\n",
        "\n",
        "model= LogisticRegression(max_iter=1000)\n",
        "\n",
        "efs = EFS(model,max_features=5,min_features=2,scoring='accuracy',cv=5)\n",
        "\n",
        "efs.fit(X_train,Y_train)\n",
        "\n",
        "print(\"Selected features: \",efs.best_feature_names_)\n",
        "print(\"CV Accuracy score:\", efs.best_score_)"
      ],
      "metadata": {
        "trusted": true,
        "execution": {
          "iopub.status.busy": "2025-08-22T14:59:46.716189Z",
          "iopub.execute_input": "2025-08-22T14:59:46.716511Z",
          "iopub.status.idle": "2025-08-22T15:00:41.997233Z",
          "shell.execute_reply.started": "2025-08-22T14:59:46.716484Z",
          "shell.execute_reply": "2025-08-22T15:00:41.996168Z"
        },
        "id": "HAAblWke1aFO",
        "outputId": "89733eed-e6a0-4228-a9da-a9a13c5d013c"
      },
      "outputs": [
        {
          "name": "stderr",
          "text": "Features: 56/56",
          "output_type": "stream"
        },
        {
          "name": "stdout",
          "text": "Selected features:  ('Pclass', 'Age', 'Parch', 'Fare')\nCV Accuracy score: 0.7049023915636181\n",
          "output_type": "stream"
        }
      ],
      "execution_count": null
    },
    {
      "cell_type": "code",
      "source": [
        "#Recursive Feature Elimination\n",
        "from sklearn.feature_selection import RFE\n",
        "from sklearn.model_selection import train_test_split\n",
        "from sklearn.metrics import r2_score\n",
        "from sklearn.ensemble import RandomForestRegressor\n",
        "import pandas as pd\n",
        "\n",
        "df=pd.read_csv('/kaggle/input/ganesh-datasets/house_price_train.csv')\n",
        "target='SalePrice'\n",
        "X=df.drop(target,axis=1)\n",
        "Y=df[target]\n",
        "feature_names=X.columns.tolist()\n",
        "\n",
        "X=pd.get_dummies(X,drop_first=True)\n",
        "\n",
        "X_train,X_test,Y_train,Y_test=train_test_split(X.fillna(0),Y,test_size=0.3,random_state=42)\n",
        "\n",
        "model=RandomForestRegressor(n_estimators=100,random_state=42)\n",
        "\n",
        "rfe=RFE(estimator=model,n_features_to_select=10,step=1)\n",
        "rfe.fit(X_train,Y_train)\n",
        "print(\"features with Ranking\")\n",
        "for f,r in zip(feature_names,rfe.ranking_):\n",
        "    print(f'{f}:{r}')\n",
        "\n",
        "selected_features=[f for f,s in zip(feature_names,rfe.support_) if s]\n",
        "removed_features=[f for f,s in zip(feature_names,rfe.support_) if not s]\n",
        "print(\"selected features: \",selected_features)\n",
        "print(\"Removed features: \",removed_features)\n",
        "\n",
        "#fit on all feature\n",
        "model.fit(X_train,Y_train)\n",
        "y_pred_all=model.predict(X_test)\n",
        "print(\"R2 score with all features: \",r2_score(Y_test,y_pred_all))\n",
        "\n",
        "#fit only on selected features\n",
        "X_train_rfe=rfe.transform(X_train)\n",
        "X_test_rfe=rfe.transform(X_test)\n",
        "\n",
        "model.fit(X_train_rfe,Y_train)\n",
        "y_pred_sel=model.predict(X_test_rfe)\n",
        "print(\"R2 score with only selected features: \",r2_score(Y_test,y_pred_sel))\n"
      ],
      "metadata": {
        "trusted": true,
        "execution": {
          "iopub.status.busy": "2025-08-23T16:28:35.737662Z",
          "iopub.execute_input": "2025-08-23T16:28:35.73795Z",
          "iopub.status.idle": "2025-08-23T16:35:57.284514Z",
          "shell.execute_reply.started": "2025-08-23T16:28:35.737928Z",
          "shell.execute_reply": "2025-08-23T16:35:57.282994Z"
        },
        "id": "-WavsSa_1aFP",
        "outputId": "d9dfe4ec-ebf8-47a4-adbc-55c2c8b067b7"
      },
      "outputs": [
        {
          "name": "stdout",
          "text": "features with Ranking\nId:9\nMSSubClass:15\nMSZoning:6\nLotFrontage:1\nLotArea:1\nStreet:12\nAlley:1\nLotShape:2\nLandContour:10\nUtilities:1\nLotConfig:42\nLandSlope:7\nNeighborhood:1\nCondition1:1\nCondition2:1\nBldgType:132\nHouseStyle:1\nOverallQual:29\nOverallCond:106\nYearBuilt:19\nYearRemodAdd:34\nRoofStyle:25\nRoofMatl:35\nExterior1st:8\nExterior2nd:18\nMasVnrType:4\nMasVnrArea:1\nExterQual:1\nExterCond:5\nFoundation:3\nBsmtQual:61\nBsmtCond:64\nBsmtExposure:11\nBsmtFinType1:24\nBsmtFinSF1:141\nBsmtFinType2:16\nBsmtFinSF2:22\nBsmtUnfSF:130\nTotalBsmtSF:175\nHeating:50\nHeatingQC:30\nCentralAir:196\nElectrical:105\n1stFlrSF:107\n2ndFlrSF:137\nLowQualFinSF:23\nGrLivArea:56\nBsmtFullBath:158\nBsmtHalfBath:39\nFullBath:223\nHalfBath:43\nBedroomAbvGr:104\nKitchenAbvGr:150\nKitchenQual:60\nTotRmsAbvGrd:67\nFunctional:140\nFireplaces:211\nFireplaceQu:155\nGarageType:121\nGarageYrBlt:87\nGarageFinish:70\nGarageCars:45\nGarageArea:80\nGarageQual:115\nGarageCond:172\nPavedDrive:205\nWoodDeckSF:146\nOpenPorchSF:92\nEnclosedPorch:187\n3SsnPorch:126\nScreenPorch:71\nPoolArea:95\nPoolQC:86\nFence:124\nMiscFeature:135\nMiscVal:143\nMoSold:73\nYrSold:62\nSaleType:82\nSaleCondition:151\nselected features:  ['LotFrontage', 'LotArea', 'Alley', 'Utilities', 'Neighborhood', 'Condition1', 'Condition2', 'HouseStyle', 'MasVnrArea', 'ExterQual']\nRemoved features:  ['Id', 'MSSubClass', 'MSZoning', 'Street', 'LotShape', 'LandContour', 'LotConfig', 'LandSlope', 'BldgType', 'OverallQual', 'OverallCond', 'YearBuilt', 'YearRemodAdd', 'RoofStyle', 'RoofMatl', 'Exterior1st', 'Exterior2nd', 'MasVnrType', 'ExterCond', 'Foundation', 'BsmtQual', 'BsmtCond', 'BsmtExposure', 'BsmtFinType1', 'BsmtFinSF1', 'BsmtFinType2', 'BsmtFinSF2', 'BsmtUnfSF', 'TotalBsmtSF', 'Heating', 'HeatingQC', 'CentralAir', 'Electrical', '1stFlrSF', '2ndFlrSF', 'LowQualFinSF', 'GrLivArea', 'BsmtFullBath', 'BsmtHalfBath', 'FullBath', 'HalfBath', 'BedroomAbvGr', 'KitchenAbvGr', 'KitchenQual', 'TotRmsAbvGrd', 'Functional', 'Fireplaces', 'FireplaceQu', 'GarageType', 'GarageYrBlt', 'GarageFinish', 'GarageCars', 'GarageArea', 'GarageQual', 'GarageCond', 'PavedDrive', 'WoodDeckSF', 'OpenPorchSF', 'EnclosedPorch', '3SsnPorch', 'ScreenPorch', 'PoolArea', 'PoolQC', 'Fence', 'MiscFeature', 'MiscVal', 'MoSold', 'YrSold', 'SaleType', 'SaleCondition']\nR2 score with all features:  0.8971597817870696\nR2 score with only selected features:  0.9012248971765646\n",
          "output_type": "stream"
        }
      ],
      "execution_count": null
    }
  ]
}
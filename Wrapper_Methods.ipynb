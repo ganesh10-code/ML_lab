{
  "metadata": {
    "kernelspec": {
      "language": "python",
      "display_name": "Python 3",
      "name": "python3"
    },
    "language_info": {
      "name": "python",
      "version": "3.11.13",
      "mimetype": "text/x-python",
      "codemirror_mode": {
        "name": "ipython",
        "version": 3
      },
      "pygments_lexer": "ipython3",
      "nbconvert_exporter": "python",
      "file_extension": ".py"
    },
    "kaggle": {
      "accelerator": "none",
      "dataSources": [
        {
          "sourceId": 12725879,
          "sourceType": "datasetVersion",
          "datasetId": 8043561
        }
      ],
      "dockerImageVersionId": 31089,
      "isInternetEnabled": true,
      "language": "python",
      "sourceType": "notebook",
      "isGpuEnabled": false
    },
    "colab": {
      "name": "Wrapper_Methods",
      "provenance": [],
      "include_colab_link": true
    }
  },
  "nbformat_minor": 0,
  "nbformat": 4,
  "cells": [
    {
      "cell_type": "markdown",
      "metadata": {
        "id": "view-in-github",
        "colab_type": "text"
      },
      "source": [
        "<a href=\"https://colab.research.google.com/github/ganesh10-code/ML_lab/blob/main/Wrapper_Methods.ipynb\" target=\"_parent\"><img src=\"https://colab.research.google.com/assets/colab-badge.svg\" alt=\"Open In Colab\"/></a>"
      ]
    },
    {
      "cell_type": "code",
      "source": [
        "#Forward Selection\n",
        "from mlxtend.feature_selection import SequentialFeatureSelector as SFS\n",
        "from sklearn.linear_model import LogisticRegression\n",
        "import pandas as pd\n",
        "\n",
        "df=pd.read_csv('/kaggle/input/ganesh-datasets/titanic_train.csv')\n",
        "target='Survived'\n",
        "X_train=df[df.select_dtypes(include=['number']).columns].drop(columns=[target]).fillna(0)\n",
        "Y_train=df[target]\n",
        "\n",
        "model= LogisticRegression(max_iter=1000)\n",
        "\n",
        "sfs = SFS(model,k_features=5,forward=True,floating=False,scoring='accuracy',cv=5)\n",
        "\n",
        "sfs.fit(X_train,Y_train)\n",
        "\n",
        "print(\"Selected features: \",sfs.k_feature_names_)\n",
        "print(\"CV Accuracy score:\", sfs.k_score_)"
      ],
      "metadata": {
        "trusted": true,
        "execution": {
          "iopub.status.busy": "2025-08-21T18:54:02.576272Z",
          "iopub.execute_input": "2025-08-21T18:54:02.576622Z",
          "iopub.status.idle": "2025-08-21T18:54:13.71641Z",
          "shell.execute_reply.started": "2025-08-21T18:54:02.5766Z",
          "shell.execute_reply": "2025-08-21T18:54:13.715797Z"
        },
        "id": "iPRrYn0bLDUy",
        "outputId": "46e12cf3-82a1-42db-be02-0456307a90a8"
      },
      "outputs": [
        {
          "name": "stdout",
          "text": "Selected features:  ('PassengerId', 'Pclass', 'Age', 'Parch', 'Fare')\nCV Accuracy score: 0.7049023915636181\n",
          "output_type": "stream"
        }
      ],
      "execution_count": null
    },
    {
      "cell_type": "code",
      "source": [
        "#Backward Selection\n",
        "from mlxtend.feature_selection import SequentialFeatureSelector as SFS\n",
        "from sklearn.linear_model import LinearRegression\n",
        "import pandas as pd\n",
        "\n",
        "df=pd.read_csv('/kaggle/input/ganesh-datasets/house_price_train.csv')\n",
        "target='SalePrice'\n",
        "X_train=df[df.select_dtypes(include=['number']).columns].drop(columns=[target]).fillna(0)\n",
        "Y_train=df[target]\n",
        "\n",
        "model= LinearRegression()\n",
        "\n",
        "sfs = SFS(model,k_features=5,forward=False,floating=False,scoring='r2',cv=5)\n",
        "\n",
        "sfs.fit(X_train,Y_train)\n",
        "\n",
        "print(\"Selected features: \",sfs.k_feature_names_)\n",
        "print(\"CV Accuracy score:\", sfs.k_score_)"
      ],
      "metadata": {
        "trusted": true,
        "execution": {
          "iopub.status.busy": "2025-08-21T19:02:42.495256Z",
          "iopub.execute_input": "2025-08-21T19:02:42.495568Z",
          "iopub.status.idle": "2025-08-21T19:03:00.904645Z",
          "shell.execute_reply.started": "2025-08-21T19:02:42.495548Z",
          "shell.execute_reply": "2025-08-21T19:03:00.903795Z"
        },
        "id": "1jZ6vBgYLDU3",
        "outputId": "52f005dd-7aad-40b7-f25a-0cb187d28709"
      },
      "outputs": [
        {
          "name": "stdout",
          "text": "Selected features:  ('MSSubClass', 'OverallQual', 'YearBuilt', 'GrLivArea', 'BsmtFullBath')\nCV Accuracy score: 0.768976918373802\n",
          "output_type": "stream"
        }
      ],
      "execution_count": null
    },
    {
      "cell_type": "code",
      "source": [
        "#Exhaustive Search\n",
        "from mlxtend.feature_selection import ExhaustiveFeatureSelector as EFS\n",
        "from sklearn.linear_model import LogisticRegression\n",
        "import pandas as pd\n",
        "\n",
        "df=pd.read_csv('/kaggle/input/ganesh-datasets/titanic_train.csv')\n",
        "target='Survived'\n",
        "X_train=df[df.select_dtypes(include=['number']).columns].drop(columns=[target]).fillna(0)\n",
        "Y_train=df[target]\n",
        "\n",
        "model= LogisticRegression(max_iter=1000)\n",
        "\n",
        "efs = EFS(model,max_features=5,min_features=2,scoring='accuracy',cv=5)\n",
        "\n",
        "efs.fit(X_train,Y_train)\n",
        "\n",
        "print(\"Selected features: \",efs.best_feature_names_)\n",
        "print(\"CV Accuracy score:\", efs.best_score_)"
      ],
      "metadata": {
        "trusted": true,
        "execution": {
          "iopub.status.busy": "2025-08-21T19:46:26.994098Z",
          "iopub.execute_input": "2025-08-21T19:46:26.994641Z"
        },
        "id": "ThHoNx1VLDU4",
        "outputId": "e840361f-efec-478d-cedb-97ebf75a4511"
      },
      "outputs": [
        {
          "name": "stderr",
          "text": "Features: 21/56",
          "output_type": "stream"
        }
      ],
      "execution_count": null
    }
  ]
}